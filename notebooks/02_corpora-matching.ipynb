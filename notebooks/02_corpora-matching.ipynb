{
 "cells": [
  {
   "cell_type": "markdown",
   "metadata": {},
   "source": [
    "# Lecture 02. Corpora and Dictionaries\n",
    "\n",
    "Natural Language Processing for Law and Social Science<br>\n",
    "Elliott Ash, ETH Zurich"
   ]
  },
  {
   "cell_type": "code",
   "execution_count": 14,
   "metadata": {
    "ExecuteTime": {
     "end_time": "2022-03-03T18:54:19.066847Z",
     "start_time": "2022-03-03T18:54:18.994527Z"
    }
   },
   "outputs": [],
   "source": [
    "# set random seed\n",
    "import numpy as np\n",
    "np.random.seed(4)"
   ]
  },
  {
   "cell_type": "markdown",
   "metadata": {},
   "source": [
    "# Web Scraping\n",
    "\n",
    "There are several ways to obtain data from the internet. Below are the links to tutorial for these methods:\n",
    "\n",
    "1. Scraping with [selenium](https://selenium-python.readthedocs.io/) (an example [here](https://towardsdatascience.com/how-to-use-selenium-to-web-scrape-with-example-80f9b23a843a): useful if the webpage contains JS scripts)\n",
    "2. Retrieving raw html with [beautifulsoup](https://beautiful-soup-4.readthedocs.io/en/latest/)\n",
    "3. Quering [REST Api](https://restfulapi.net/) (a nice example [here](https://betterprogramming.pub/extracting-rest-api-data-using-python-with-an-example-e800b03bb62e))"
   ]
  },
  {
   "cell_type": "markdown",
   "metadata": {},
   "source": [
    "## Downloading URL's"
   ]
  },
  {
   "cell_type": "code",
   "execution_count": 15,
   "metadata": {},
   "outputs": [
    {
     "name": "stdout",
     "output_type": "stream",
     "text": [
      "b'\\n<!DOCTYPE html>\\n<html lang=\"en\">\\n<head>\\n  <meta charset=\"utf-8\"/>\\n  <meta http-equiv=\"Content-Language\" content=\"en\"/>\\n  <meta name=\"language\" content=\"en_us\"/>\\n  <meta name=\"viewport\" content=\"width=device-width,initial-scale=1\"/>\\n\\n  \\n  <meta name=\"description\" content=\"Opinion for People v. Germany, 674 P.2d 345 \\xe2\\x80\\x94 Brought to you by Free Law Project, a non-profit dedicated to creating high qua'\n",
      "\n",
      "b'RtAlerts = parseFloat(10),\\n      maxFreeDocketAlerts = 5,\\n      recapBonusAlerts = 10;\\n\\n</script>\\n\\n\\n\\n    <script defer type=\"text/javascript\" src=\"https://storage.courtlistener.com/static/js/jquery.NobleCount.min.b39270d0a2ec.js\"></script>\\n    <script defer type=\"text/javascript\" src=\"https://storage.courtlistener.com/static/js/save-notes.82c8dc9c4c77.js\"></script>\\n    \\n\\n\\n\\n\\n  \\n  \\n\\n</body>\\n</html>\\n'\n",
      "\n",
      "78482 characters in string.\n"
     ]
    }
   ],
   "source": [
    "import urllib.request as urllib # Python's module for accessing web pages\n",
    "url = 'https://goo.gl/VRF8Xs' # shortened URL for court case\n",
    "page = urllib.urlopen(url) # open the web page\n",
    "\n",
    "html = page.read() # read web page contents as a string\n",
    "print(html[:400])  # print first 400 characters\n",
    "print()\n",
    "print(html[-400:]) # print last 400 characters\n",
    "print()\n",
    "print(len(html),'characters in string.')   # print length of string"
   ]
  },
  {
   "cell_type": "markdown",
   "metadata": {},
   "source": [
    "## Parsing HTML"
   ]
  },
  {
   "cell_type": "code",
   "execution_count": 16,
   "metadata": {
    "ExecuteTime": {
     "end_time": "2022-02-25T09:32:09.647832Z",
     "start_time": "2022-02-25T09:32:09.602699Z"
    }
   },
   "outputs": [
    {
     "name": "stdout",
     "output_type": "stream",
     "text": [
      "<title>People v. Germany, 674 P.2d 345 – CourtListener.com</title>\n"
     ]
    }
   ],
   "source": [
    "# Parse raw HTML\n",
    "# !pip install beautifulsoup4\n",
    "from bs4 import BeautifulSoup # package for parsing HTML\n",
    "soup = BeautifulSoup(html, \"html.parser\") # parse html of web page\n",
    "print(soup.title) # example usage: print title item"
   ]
  },
  {
   "cell_type": "code",
   "execution_count": 17,
   "metadata": {
    "ExecuteTime": {
     "end_time": "2022-02-25T09:32:18.769526Z",
     "start_time": "2022-02-25T09:32:18.758006Z"
    }
   },
   "outputs": [
    {
     "name": "stdout",
     "output_type": "stream",
     "text": [
      "520\n"
     ]
    }
   ],
   "source": [
    "# extract text\n",
    "text = soup.get_text() # get text (remove HTML markup)\n",
    "lines = text.splitlines() # split string into separate lines\n",
    "print(len(lines)) # print number of lines"
   ]
  },
  {
   "cell_type": "code",
   "execution_count": 18,
   "metadata": {
    "ExecuteTime": {
     "end_time": "2022-02-25T09:32:26.434807Z",
     "start_time": "2022-02-25T09:32:26.422384Z"
    }
   },
   "outputs": [
    {
     "name": "stdout",
     "output_type": "stream",
     "text": [
      "186\n"
     ]
    }
   ],
   "source": [
    "lines = [line for line in lines if line != ''] # drop empty lines\n",
    "print(len(lines)) # print number of lines"
   ]
  },
  {
   "cell_type": "code",
   "execution_count": 19,
   "metadata": {
    "ExecuteTime": {
     "end_time": "2022-02-25T09:32:30.847356Z",
     "start_time": "2022-02-25T09:32:30.839684Z"
    }
   },
   "outputs": [
    {
     "name": "stdout",
     "output_type": "stream",
     "text": [
      "['People v. Germany, 674 P.2d 345 – CourtListener.com', 'Toggle navigation', 'About', 'FAQ', 'Donate', 'Sign in / Register', 'From Free Law Project, a 501(c)(3) non-profit.', 'Opinions\\xa0', 'Opinions Search', 'Citation Look Up', 'Citation Visualizations', 'RECAP Archive', 'Oral Arguments', 'Judges', 'Financial Disclosures', '\\xa0Donate', 'Your Notes', '                     (edit)', '                     ', '                    (none)']\n"
     ]
    }
   ],
   "source": [
    "print(lines[:20]) # print first 20 lines"
   ]
  },
  {
   "cell_type": "markdown",
   "metadata": {},
   "source": [
    "## Removing unicode characters"
   ]
  },
  {
   "cell_type": "code",
   "execution_count": 20,
   "metadata": {
    "ExecuteTime": {
     "end_time": "2022-02-25T09:32:53.962331Z",
     "start_time": "2022-02-25T09:32:53.952376Z"
    }
   },
   "outputs": [
    {
     "name": "stdout",
     "output_type": "stream",
     "text": [
      "Requirement already satisfied: unidecode in c:\\apps\\anaconda3\\lib\\site-packages (1.3.6)\n",
      "['Visualizations\\xa0'] ['Visualizations ']\n"
     ]
    }
   ],
   "source": [
    " !pip install unidecode\n",
    "from unidecode import unidecode # package for removing unicode\n",
    "uncode_str = 'Visualizations\\xa0'\n",
    "fixed = unidecode(uncode_str) # example usage\n",
    "print([uncode_str],[fixed]) # print cleaned string (replaced with a space)"
   ]
  },
  {
   "cell_type": "code",
   "execution_count": null,
   "metadata": {},
   "outputs": [],
   "source": []
  },
  {
   "cell_type": "markdown",
   "metadata": {},
   "source": [
    "# Loading and Inspecting Data with Pandas\n",
    "\n",
    "These notebooks are more about methods than answering a specific research questions. However, while going through them, it is useful to keep in mind a potential research questions with economic relevance. We will be working with court cases and have the text of the opinion written by the judge,its affiliation, as well as some information about type of opinion, other judges on the panel and the number of cites for each opinion\n",
    "\n",
    "**Given these data, what could be interesting to investigate?**"
   ]
  },
  {
   "cell_type": "markdown",
   "metadata": {},
   "source": [
    "When dealing with inspecting or cleaning data in python pandas is your best friend and [here](https://pandas.pydata.org/Pandas_Cheat_Sheet.pdf)'s a useful cheat sheet"
   ]
  },
  {
   "cell_type": "code",
   "execution_count": 21,
   "metadata": {
    "ExecuteTime": {
     "end_time": "2022-03-03T18:54:19.954764Z",
     "start_time": "2022-03-03T18:54:19.506368Z"
    }
   },
   "outputs": [],
   "source": [
    "#import warnings; warnings.simplefilter('ignore')\n",
    "# !pip install pandas\n",
    "import pandas as pd\n",
    "df = pd.read_csv('sc_cases.zip',compression='gzip')"
   ]
  },
  {
   "cell_type": "code",
   "execution_count": 22,
   "metadata": {
    "ExecuteTime": {
     "end_time": "2022-03-03T18:54:19.961024Z",
     "start_time": "2022-03-03T18:54:19.955791Z"
    }
   },
   "outputs": [
    {
     "name": "stdout",
     "output_type": "stream",
     "text": [
      "<class 'pandas.core.frame.DataFrame'>\n",
      "RangeIndex: 820 entries, 0 to 819\n",
      "Data columns (total 10 columns):\n",
      " #   Column          Non-Null Count  Dtype  \n",
      "---  ------          --------------  -----  \n",
      " 0   case_name       786 non-null    object \n",
      " 1   opinion_type    820 non-null    object \n",
      " 2   date_standard   820 non-null    object \n",
      " 3   authorship      820 non-null    object \n",
      " 4   x_republican    803 non-null    float64\n",
      " 5   maj_judges      786 non-null    object \n",
      " 6   dissent_judges  786 non-null    object \n",
      " 7   topic_id        786 non-null    float64\n",
      " 8   cite_count      812 non-null    float64\n",
      " 9   opinion_text    820 non-null    object \n",
      "dtypes: float64(3), object(7)\n",
      "memory usage: 64.2+ KB\n"
     ]
    }
   ],
   "source": [
    "df.info() "
   ]
  },
  {
   "cell_type": "code",
   "execution_count": 23,
   "metadata": {
    "ExecuteTime": {
     "end_time": "2022-03-03T18:54:19.970882Z",
     "start_time": "2022-03-03T18:54:19.961700Z"
    }
   },
   "outputs": [
    {
     "data": {
      "text/html": [
       "<div>\n",
       "<style scoped>\n",
       "    .dataframe tbody tr th:only-of-type {\n",
       "        vertical-align: middle;\n",
       "    }\n",
       "\n",
       "    .dataframe tbody tr th {\n",
       "        vertical-align: top;\n",
       "    }\n",
       "\n",
       "    .dataframe thead th {\n",
       "        text-align: right;\n",
       "    }\n",
       "</style>\n",
       "<table border=\"1\" class=\"dataframe\">\n",
       "  <thead>\n",
       "    <tr style=\"text-align: right;\">\n",
       "      <th></th>\n",
       "      <th>case_name</th>\n",
       "      <th>opinion_type</th>\n",
       "      <th>date_standard</th>\n",
       "      <th>authorship</th>\n",
       "      <th>x_republican</th>\n",
       "      <th>maj_judges</th>\n",
       "      <th>dissent_judges</th>\n",
       "      <th>topic_id</th>\n",
       "      <th>cite_count</th>\n",
       "      <th>opinion_text</th>\n",
       "    </tr>\n",
       "  </thead>\n",
       "  <tbody>\n",
       "    <tr>\n",
       "      <th>0</th>\n",
       "      <td>ERICK CORNELL CLAY v. UNITED STATES</td>\n",
       "      <td>majority</td>\n",
       "      <td>2003-03-04</td>\n",
       "      <td>GINSBURG</td>\n",
       "      <td>0.0</td>\n",
       "      <td>['BREYER, STEPHEN', 'GINSBURG, RUTH', 'KENNEDY...</td>\n",
       "      <td>[]</td>\n",
       "      <td>1.0</td>\n",
       "      <td>2926.0</td>\n",
       "      <td>JUSTICE GINSBURG delivered the opinion of the ...</td>\n",
       "    </tr>\n",
       "    <tr>\n",
       "      <th>1</th>\n",
       "      <td>HILLSIDE DAIRY INC., A&amp;A DAIRY, L&amp;S DAIRY, AND...</td>\n",
       "      <td>majority</td>\n",
       "      <td>2003-06-09</td>\n",
       "      <td>STEVENS</td>\n",
       "      <td>1.0</td>\n",
       "      <td>['BREYER, STEPHEN', 'GINSBURG, RUTH', 'KENNEDY...</td>\n",
       "      <td>['THOMAS, CLARENCE']</td>\n",
       "      <td>8.0</td>\n",
       "      <td>117.0</td>\n",
       "      <td>Justice Stevens delivered the opinion of the C...</td>\n",
       "    </tr>\n",
       "    <tr>\n",
       "      <th>2</th>\n",
       "      <td>CHARLES RUSSELL RHINES v. DOUGLAS WEBER, WARDEN</td>\n",
       "      <td>majority</td>\n",
       "      <td>2005-03-30</td>\n",
       "      <td>O'CONNOR</td>\n",
       "      <td>1.0</td>\n",
       "      <td>['BREYER, STEPHEN', 'GINSBURG, RUTH', 'KENNEDY...</td>\n",
       "      <td>[]</td>\n",
       "      <td>1.0</td>\n",
       "      <td>23364.0</td>\n",
       "      <td>Justice O'Connor delivered the opinion of the ...</td>\n",
       "    </tr>\n",
       "    <tr>\n",
       "      <th>3</th>\n",
       "      <td>NaN</td>\n",
       "      <td>majority</td>\n",
       "      <td>2005-04-15</td>\n",
       "      <td>KENNEDY</td>\n",
       "      <td>1.0</td>\n",
       "      <td>NaN</td>\n",
       "      <td>NaN</td>\n",
       "      <td>NaN</td>\n",
       "      <td>6.0</td>\n",
       "      <td>Justice Kennedy, Circuit Justice. \\n\\n This is...</td>\n",
       "    </tr>\n",
       "    <tr>\n",
       "      <th>4</th>\n",
       "      <td>STATE OF ALASKA v. UNITED STATES OF AMERICA</td>\n",
       "      <td>majority</td>\n",
       "      <td>2005-06-06</td>\n",
       "      <td>KENNEDY</td>\n",
       "      <td>1.0</td>\n",
       "      <td>['BREYER, STEPHEN', 'GINSBURG, RUTH', 'KENNEDY...</td>\n",
       "      <td>['REHNQUIST, WILLIAM', 'SCALIA, ANTONIN', 'THO...</td>\n",
       "      <td>10.0</td>\n",
       "      <td>84.0</td>\n",
       "      <td>Justice Kennedy delivered the opinion of the C...</td>\n",
       "    </tr>\n",
       "  </tbody>\n",
       "</table>\n",
       "</div>"
      ],
      "text/plain": [
       "                                           case_name opinion_type  \\\n",
       "0                ERICK CORNELL CLAY v. UNITED STATES     majority   \n",
       "1  HILLSIDE DAIRY INC., A&A DAIRY, L&S DAIRY, AND...     majority   \n",
       "2    CHARLES RUSSELL RHINES v. DOUGLAS WEBER, WARDEN     majority   \n",
       "3                                                NaN     majority   \n",
       "4        STATE OF ALASKA v. UNITED STATES OF AMERICA     majority   \n",
       "\n",
       "  date_standard authorship  x_republican  \\\n",
       "0    2003-03-04   GINSBURG           0.0   \n",
       "1    2003-06-09    STEVENS           1.0   \n",
       "2    2005-03-30   O'CONNOR           1.0   \n",
       "3    2005-04-15    KENNEDY           1.0   \n",
       "4    2005-06-06    KENNEDY           1.0   \n",
       "\n",
       "                                          maj_judges  \\\n",
       "0  ['BREYER, STEPHEN', 'GINSBURG, RUTH', 'KENNEDY...   \n",
       "1  ['BREYER, STEPHEN', 'GINSBURG, RUTH', 'KENNEDY...   \n",
       "2  ['BREYER, STEPHEN', 'GINSBURG, RUTH', 'KENNEDY...   \n",
       "3                                                NaN   \n",
       "4  ['BREYER, STEPHEN', 'GINSBURG, RUTH', 'KENNEDY...   \n",
       "\n",
       "                                      dissent_judges  topic_id  cite_count  \\\n",
       "0                                                 []       1.0      2926.0   \n",
       "1                               ['THOMAS, CLARENCE']       8.0       117.0   \n",
       "2                                                 []       1.0     23364.0   \n",
       "3                                                NaN       NaN         6.0   \n",
       "4  ['REHNQUIST, WILLIAM', 'SCALIA, ANTONIN', 'THO...      10.0        84.0   \n",
       "\n",
       "                                        opinion_text  \n",
       "0  JUSTICE GINSBURG delivered the opinion of the ...  \n",
       "1  Justice Stevens delivered the opinion of the C...  \n",
       "2  Justice O'Connor delivered the opinion of the ...  \n",
       "3  Justice Kennedy, Circuit Justice. \\n\\n This is...  \n",
       "4  Justice Kennedy delivered the opinion of the C...  "
      ]
     },
     "execution_count": 23,
     "metadata": {},
     "output_type": "execute_result"
    }
   ],
   "source": [
    "df.head()"
   ]
  },
  {
   "cell_type": "code",
   "execution_count": 24,
   "metadata": {
    "ExecuteTime": {
     "end_time": "2022-03-03T18:54:19.979689Z",
     "start_time": "2022-03-03T18:54:19.972244Z"
    }
   },
   "outputs": [
    {
     "data": {
      "text/html": [
       "<div>\n",
       "<style scoped>\n",
       "    .dataframe tbody tr th:only-of-type {\n",
       "        vertical-align: middle;\n",
       "    }\n",
       "\n",
       "    .dataframe tbody tr th {\n",
       "        vertical-align: top;\n",
       "    }\n",
       "\n",
       "    .dataframe thead th {\n",
       "        text-align: right;\n",
       "    }\n",
       "</style>\n",
       "<table border=\"1\" class=\"dataframe\">\n",
       "  <thead>\n",
       "    <tr style=\"text-align: right;\">\n",
       "      <th></th>\n",
       "      <th>case_name</th>\n",
       "      <th>opinion_type</th>\n",
       "      <th>date_standard</th>\n",
       "      <th>authorship</th>\n",
       "      <th>x_republican</th>\n",
       "      <th>maj_judges</th>\n",
       "      <th>dissent_judges</th>\n",
       "      <th>topic_id</th>\n",
       "      <th>cite_count</th>\n",
       "      <th>opinion_text</th>\n",
       "    </tr>\n",
       "  </thead>\n",
       "  <tbody>\n",
       "    <tr>\n",
       "      <th>0</th>\n",
       "      <td>ERICK CORNELL CLAY v. UNITED STATES</td>\n",
       "      <td>majority</td>\n",
       "      <td>2003-03-04</td>\n",
       "      <td>GINSBURG</td>\n",
       "      <td>0.0</td>\n",
       "      <td>['BREYER, STEPHEN', 'GINSBURG, RUTH', 'KENNEDY...</td>\n",
       "      <td>[]</td>\n",
       "      <td>1.0</td>\n",
       "      <td>2926.0</td>\n",
       "      <td>JUSTICE GINSBURG delivered the opinion of the ...</td>\n",
       "    </tr>\n",
       "    <tr>\n",
       "      <th>1</th>\n",
       "      <td>HILLSIDE DAIRY INC., A&amp;A DAIRY, L&amp;S DAIRY, AND...</td>\n",
       "      <td>majority</td>\n",
       "      <td>2003-06-09</td>\n",
       "      <td>STEVENS</td>\n",
       "      <td>1.0</td>\n",
       "      <td>['BREYER, STEPHEN', 'GINSBURG, RUTH', 'KENNEDY...</td>\n",
       "      <td>['THOMAS, CLARENCE']</td>\n",
       "      <td>8.0</td>\n",
       "      <td>117.0</td>\n",
       "      <td>Justice Stevens delivered the opinion of the C...</td>\n",
       "    </tr>\n",
       "    <tr>\n",
       "      <th>2</th>\n",
       "      <td>CHARLES RUSSELL RHINES v. DOUGLAS WEBER, WARDEN</td>\n",
       "      <td>majority</td>\n",
       "      <td>2005-03-30</td>\n",
       "      <td>O'CONNOR</td>\n",
       "      <td>1.0</td>\n",
       "      <td>['BREYER, STEPHEN', 'GINSBURG, RUTH', 'KENNEDY...</td>\n",
       "      <td>[]</td>\n",
       "      <td>1.0</td>\n",
       "      <td>23364.0</td>\n",
       "      <td>Justice O'Connor delivered the opinion of the ...</td>\n",
       "    </tr>\n",
       "    <tr>\n",
       "      <th>4</th>\n",
       "      <td>STATE OF ALASKA v. UNITED STATES OF AMERICA</td>\n",
       "      <td>majority</td>\n",
       "      <td>2005-06-06</td>\n",
       "      <td>KENNEDY</td>\n",
       "      <td>1.0</td>\n",
       "      <td>['BREYER, STEPHEN', 'GINSBURG, RUTH', 'KENNEDY...</td>\n",
       "      <td>['REHNQUIST, WILLIAM', 'SCALIA, ANTONIN', 'THO...</td>\n",
       "      <td>10.0</td>\n",
       "      <td>84.0</td>\n",
       "      <td>Justice Kennedy delivered the opinion of the C...</td>\n",
       "    </tr>\n",
       "    <tr>\n",
       "      <th>5</th>\n",
       "      <td>REGINALD A. WILKINSON, DIRECTOR, OHIO DEPARTME...</td>\n",
       "      <td>majority</td>\n",
       "      <td>2005-06-13</td>\n",
       "      <td>KENNEDY</td>\n",
       "      <td>1.0</td>\n",
       "      <td>['BREYER, STEPHEN', 'GINSBURG, RUTH', 'KENNEDY...</td>\n",
       "      <td>[]</td>\n",
       "      <td>4.0</td>\n",
       "      <td>4230.0</td>\n",
       "      <td>Justice Kennedy delivered the opinion of the C...</td>\n",
       "    </tr>\n",
       "  </tbody>\n",
       "</table>\n",
       "</div>"
      ],
      "text/plain": [
       "                                           case_name opinion_type  \\\n",
       "0                ERICK CORNELL CLAY v. UNITED STATES     majority   \n",
       "1  HILLSIDE DAIRY INC., A&A DAIRY, L&S DAIRY, AND...     majority   \n",
       "2    CHARLES RUSSELL RHINES v. DOUGLAS WEBER, WARDEN     majority   \n",
       "4        STATE OF ALASKA v. UNITED STATES OF AMERICA     majority   \n",
       "5  REGINALD A. WILKINSON, DIRECTOR, OHIO DEPARTME...     majority   \n",
       "\n",
       "  date_standard authorship  x_republican  \\\n",
       "0    2003-03-04   GINSBURG           0.0   \n",
       "1    2003-06-09    STEVENS           1.0   \n",
       "2    2005-03-30   O'CONNOR           1.0   \n",
       "4    2005-06-06    KENNEDY           1.0   \n",
       "5    2005-06-13    KENNEDY           1.0   \n",
       "\n",
       "                                          maj_judges  \\\n",
       "0  ['BREYER, STEPHEN', 'GINSBURG, RUTH', 'KENNEDY...   \n",
       "1  ['BREYER, STEPHEN', 'GINSBURG, RUTH', 'KENNEDY...   \n",
       "2  ['BREYER, STEPHEN', 'GINSBURG, RUTH', 'KENNEDY...   \n",
       "4  ['BREYER, STEPHEN', 'GINSBURG, RUTH', 'KENNEDY...   \n",
       "5  ['BREYER, STEPHEN', 'GINSBURG, RUTH', 'KENNEDY...   \n",
       "\n",
       "                                      dissent_judges  topic_id  cite_count  \\\n",
       "0                                                 []       1.0      2926.0   \n",
       "1                               ['THOMAS, CLARENCE']       8.0       117.0   \n",
       "2                                                 []       1.0     23364.0   \n",
       "4  ['REHNQUIST, WILLIAM', 'SCALIA, ANTONIN', 'THO...      10.0        84.0   \n",
       "5                                                 []       4.0      4230.0   \n",
       "\n",
       "                                        opinion_text  \n",
       "0  JUSTICE GINSBURG delivered the opinion of the ...  \n",
       "1  Justice Stevens delivered the opinion of the C...  \n",
       "2  Justice O'Connor delivered the opinion of the ...  \n",
       "4  Justice Kennedy delivered the opinion of the C...  \n",
       "5  Justice Kennedy delivered the opinion of the C...  "
      ]
     },
     "execution_count": 24,
     "metadata": {},
     "output_type": "execute_result"
    }
   ],
   "source": [
    "# drop missing\n",
    "df = df.dropna()\n",
    "df.head()"
   ]
  },
  {
   "cell_type": "code",
   "execution_count": 25,
   "metadata": {
    "ExecuteTime": {
     "end_time": "2022-03-03T18:54:20.078271Z",
     "start_time": "2022-03-03T18:54:20.075074Z"
    }
   },
   "outputs": [
    {
     "data": {
      "text/plain": [
       "count        781\n",
       "unique        27\n",
       "top       SCALIA\n",
       "freq          86\n",
       "Name: authorship, dtype: object"
      ]
     },
     "execution_count": 25,
     "metadata": {},
     "output_type": "execute_result"
    }
   ],
   "source": [
    "# Number of label categories (e.g. judges)\n",
    "df['authorship'].describe()"
   ]
  },
  {
   "cell_type": "code",
   "execution_count": 26,
   "metadata": {
    "ExecuteTime": {
     "end_time": "2022-03-03T18:54:20.238731Z",
     "start_time": "2022-03-03T18:54:20.227653Z"
    }
   },
   "outputs": [
    {
     "data": {
      "text/plain": [
       "SCALIA                                           86\n",
       "GINSBURG                                         81\n",
       "THOMAS                                           79\n",
       "KENNEDY                                          79\n",
       "BREYER                                           73\n",
       "SOUTER                                           72\n",
       "STEVENS                                          72\n",
       "O'CONNOR                                         52\n",
       "REHNQUIST                                        49\n",
       "ROBERTS                                          28\n",
       "ALITO                                            23\n",
       "Breyer                                           12\n",
       "Roberts                                          10\n",
       "Alito                                             9\n",
       "Thomas                                            8\n",
       "Ginsburg                                          8\n",
       "Scalia                                            8\n",
       "Stevens                                           7\n",
       "Kennedy                                           7\n",
       "SOTOMAYOR                                         6\n",
       "Souter                                            5\n",
       "STEVENS  AND  O'CONNOR ;  REHNQUIST ;  BREYER     2\n",
       "ROBERTS ,  SCALIA ,  THOMAS ,  ALITO              1\n",
       "Sotomayor                                         1\n",
       "JUSTICE  ALITO                                    1\n",
       "STEVENS  (IN PART),  BREYER  (IN PART)            1\n",
       "BREYER ;                                          1\n",
       "Name: authorship, dtype: int64"
      ]
     },
     "execution_count": 26,
     "metadata": {},
     "output_type": "execute_result"
    }
   ],
   "source": [
    "# tabulations of label categories \n",
    "df['authorship'].value_counts()"
   ]
  },
  {
   "cell_type": "code",
   "execution_count": 27,
   "metadata": {
    "ExecuteTime": {
     "end_time": "2022-03-03T18:54:20.382374Z",
     "start_time": "2022-03-03T18:54:20.377383Z"
    }
   },
   "outputs": [],
   "source": [
    "df['authorship'] = df['authorship'].str.upper()"
   ]
  },
  {
   "cell_type": "code",
   "execution_count": 28,
   "metadata": {
    "ExecuteTime": {
     "end_time": "2022-03-03T18:54:20.524682Z",
     "start_time": "2022-03-03T18:54:20.515558Z"
    }
   },
   "outputs": [
    {
     "data": {
      "text/plain": [
       "SCALIA                                           94\n",
       "GINSBURG                                         89\n",
       "THOMAS                                           87\n",
       "KENNEDY                                          86\n",
       "BREYER                                           85\n",
       "STEVENS                                          79\n",
       "SOUTER                                           77\n",
       "O'CONNOR                                         52\n",
       "REHNQUIST                                        49\n",
       "ROBERTS                                          38\n",
       "ALITO                                            32\n",
       "SOTOMAYOR                                         7\n",
       "STEVENS  AND  O'CONNOR ;  REHNQUIST ;  BREYER     2\n",
       "ROBERTS ,  SCALIA ,  THOMAS ,  ALITO              1\n",
       "JUSTICE  ALITO                                    1\n",
       "STEVENS  (IN PART),  BREYER  (IN PART)            1\n",
       "BREYER ;                                          1\n",
       "Name: authorship, dtype: int64"
      ]
     },
     "execution_count": 28,
     "metadata": {},
     "output_type": "execute_result"
    }
   ],
   "source": [
    "df['authorship'].value_counts()"
   ]
  },
  {
   "cell_type": "code",
   "execution_count": 29,
   "metadata": {
    "ExecuteTime": {
     "end_time": "2022-03-03T18:54:20.658055Z",
     "start_time": "2022-03-03T18:54:20.648459Z"
    }
   },
   "outputs": [
    {
     "name": "stdout",
     "output_type": "stream",
     "text": [
      "Index(['SCALIA', 'GINSBURG', 'THOMAS', 'KENNEDY', 'BREYER', 'STEVENS',\n",
      "       'SOUTER', 'O'CONNOR', 'REHNQUIST', 'ROBERTS', 'ALITO'],\n",
      "      dtype='object')\n"
     ]
    }
   ],
   "source": [
    "# keep all judges through ALITO\n",
    "keep_judges = df['authorship'].value_counts().index[:11]\n",
    "print(keep_judges)"
   ]
  },
  {
   "cell_type": "code",
   "execution_count": 30,
   "metadata": {
    "ExecuteTime": {
     "end_time": "2022-03-03T18:54:20.811481Z",
     "start_time": "2022-03-03T18:54:20.796104Z"
    }
   },
   "outputs": [
    {
     "data": {
      "text/plain": [
       "SCALIA       94\n",
       "GINSBURG     89\n",
       "THOMAS       87\n",
       "KENNEDY      86\n",
       "BREYER       85\n",
       "STEVENS      79\n",
       "SOUTER       77\n",
       "O'CONNOR     52\n",
       "REHNQUIST    49\n",
       "ROBERTS      38\n",
       "ALITO        32\n",
       "Name: authorship, dtype: int64"
      ]
     },
     "execution_count": 30,
     "metadata": {},
     "output_type": "execute_result"
    }
   ],
   "source": [
    "df = df[df['authorship'].isin(keep_judges)]\n",
    "df['authorship'].value_counts()"
   ]
  },
  {
   "cell_type": "code",
   "execution_count": 31,
   "metadata": {
    "ExecuteTime": {
     "end_time": "2022-03-03T18:54:20.955563Z",
     "start_time": "2022-03-03T18:54:20.943541Z"
    }
   },
   "outputs": [
    {
     "data": {
      "text/plain": [
       "0      2003-03-04\n",
       "1      2003-06-09\n",
       "2      2005-03-30\n",
       "4      2005-06-06\n",
       "5      2005-06-13\n",
       "          ...    \n",
       "815    2001-04-18\n",
       "816    2001-04-24\n",
       "817    2001-04-24\n",
       "818    2001-05-14\n",
       "819    2001-05-14\n",
       "Name: date_standard, Length: 768, dtype: object"
      ]
     },
     "execution_count": 31,
     "metadata": {},
     "output_type": "execute_result"
    }
   ],
   "source": [
    "df.date_standard"
   ]
  },
  {
   "cell_type": "code",
   "execution_count": 32,
   "metadata": {
    "ExecuteTime": {
     "end_time": "2022-03-03T18:54:21.096221Z",
     "start_time": "2022-03-03T18:54:21.080282Z"
    }
   },
   "outputs": [
    {
     "data": {
      "text/plain": [
       "0     2003-03-04\n",
       "1     2003-06-09\n",
       "2     2005-03-30\n",
       "4     2005-06-06\n",
       "5     2005-06-13\n",
       "         ...    \n",
       "815   2001-04-18\n",
       "816   2001-04-24\n",
       "817   2001-04-24\n",
       "818   2001-05-14\n",
       "819   2001-05-14\n",
       "Name: date_standard, Length: 768, dtype: datetime64[ns]"
      ]
     },
     "execution_count": 32,
     "metadata": {},
     "output_type": "execute_result"
    }
   ],
   "source": [
    "df['date_standard'] = pd.to_datetime(df['date_standard'])\n",
    "df['date_standard']"
   ]
  },
  {
   "cell_type": "code",
   "execution_count": 33,
   "metadata": {
    "ExecuteTime": {
     "end_time": "2022-03-03T18:54:21.243003Z",
     "start_time": "2022-03-03T18:54:21.229193Z"
    }
   },
   "outputs": [
    {
     "data": {
      "text/plain": [
       "2001    77\n",
       "2000    76\n",
       "2002    74\n",
       "2009    74\n",
       "2004    73\n",
       "2003    70\n",
       "2005    70\n",
       "2007    65\n",
       "2010    64\n",
       "2006    63\n",
       "2008    62\n",
       "Name: year, dtype: int64"
      ]
     },
     "execution_count": 33,
     "metadata": {},
     "output_type": "execute_result"
    }
   ],
   "source": [
    "df['year'] = df['date_standard'].dt.year\n",
    "df['year'].value_counts()"
   ]
  },
  {
   "cell_type": "code",
   "execution_count": 34,
   "metadata": {
    "ExecuteTime": {
     "end_time": "2022-03-03T18:54:21.830847Z",
     "start_time": "2022-03-03T18:54:21.364628Z"
    }
   },
   "outputs": [
    {
     "data": {
      "text/plain": [
       "<AxesSubplot:>"
      ]
     },
     "execution_count": 34,
     "metadata": {},
     "output_type": "execute_result"
    },
    {
     "data": {
      "image/png": "[encoded data removed]",
      "text/plain": [
       "<Figure size 432x288 with 1 Axes>"
      ]
     },
     "metadata": {
      "needs_background": "light"
     },
     "output_type": "display_data"
    }
   ],
   "source": [
    "df['cite_count'].hist()"
   ]
  },
  {
   "cell_type": "code",
   "execution_count": 35,
   "metadata": {
    "ExecuteTime": {
     "end_time": "2022-03-03T18:54:21.882734Z",
     "start_time": "2022-03-03T18:54:21.831876Z"
    }
   },
   "outputs": [
    {
     "data": {
      "text/plain": [
       "<AxesSubplot:>"
      ]
     },
     "execution_count": 35,
     "metadata": {},
     "output_type": "execute_result"
    },
    {
     "data": {
      "image/png": "[encoded data removed]",
      "text/plain": [
       "<Figure size 432x288 with 1 Axes>"
      ]
     },
     "metadata": {
      "needs_background": "light"
     },
     "output_type": "display_data"
    }
   ],
   "source": [
    "import numpy as np\n",
    "df['log_cite_count'] = np.log(df['cite_count'])\n",
    "df['log_cite_count'].hist()"
   ]
  },
  {
   "cell_type": "markdown",
   "metadata": {},
   "source": [
    "Save what we have done so far."
   ]
  },
  {
   "cell_type": "code",
   "execution_count": 36,
   "metadata": {
    "ExecuteTime": {
     "end_time": "2022-03-03T18:54:23.031287Z",
     "start_time": "2022-03-03T18:54:21.883786Z"
    }
   },
   "outputs": [
    {
     "name": "stdout",
     "output_type": "stream",
     "text": [
      "                                             case_name opinion_type  \\\n",
      "0                  ERICK CORNELL CLAY v. UNITED STATES     majority   \n",
      "1    HILLSIDE DAIRY INC., A&A DAIRY, L&S DAIRY, AND...     majority   \n",
      "2      CHARLES RUSSELL RHINES v. DOUGLAS WEBER, WARDEN     majority   \n",
      "4          STATE OF ALASKA v. UNITED STATES OF AMERICA     majority   \n",
      "5    REGINALD A. WILKINSON, DIRECTOR, OHIO DEPARTME...     majority   \n",
      "..                                                 ...          ...   \n",
      "815  MICHAEL F. EASLEY, * GOVERNOR OF NORTH CAROLIN...     majority   \n",
      "816  GAIL ATWATER, et al. v. CITY OF LAGO VISTA et al.     majority   \n",
      "817  JAMES ALEXANDER, DIRECTOR, ALABAMA DEPARTMENT ...     majority   \n",
      "818  UNITED STATES v. OAKLAND CANNABIS BUYERS' COOP...     majority   \n",
      "819                     WILBERT K. ROGERS v. TENNESSEE     majority   \n",
      "\n",
      "    date_standard authorship  x_republican  \\\n",
      "0      2003-03-04   GINSBURG           0.0   \n",
      "1      2003-06-09    STEVENS           1.0   \n",
      "2      2005-03-30   O'CONNOR           1.0   \n",
      "4      2005-06-06    KENNEDY           1.0   \n",
      "5      2005-06-13    KENNEDY           1.0   \n",
      "..            ...        ...           ...   \n",
      "815    2001-04-18     BREYER           0.0   \n",
      "816    2001-04-24     SOUTER           1.0   \n",
      "817    2001-04-24     SCALIA           1.0   \n",
      "818    2001-05-14     THOMAS           1.0   \n",
      "819    2001-05-14   O'CONNOR           1.0   \n",
      "\n",
      "                                            maj_judges  \\\n",
      "0    ['BREYER, STEPHEN', 'GINSBURG, RUTH', 'KENNEDY...   \n",
      "1    ['BREYER, STEPHEN', 'GINSBURG, RUTH', 'KENNEDY...   \n",
      "2    ['BREYER, STEPHEN', 'GINSBURG, RUTH', 'KENNEDY...   \n",
      "4    ['BREYER, STEPHEN', 'GINSBURG, RUTH', 'KENNEDY...   \n",
      "5    ['BREYER, STEPHEN', 'GINSBURG, RUTH', 'KENNEDY...   \n",
      "..                                                 ...   \n",
      "815  ['BREYER, STEPHEN', 'GINSBURG, RUTH', \"O'CONNO...   \n",
      "816  ['KENNEDY, ANTHONY', 'REHNQUIST, WILLIAM', 'SC...   \n",
      "817  ['KENNEDY, ANTHONY', \"O'CONNOR, SANDRA\", 'REHN...   \n",
      "818  ['BREYER, STEPHEN', 'GINSBURG, RUTH', 'KENNEDY...   \n",
      "819  ['GINSBURG, RUTH', 'KENNEDY, ANTHONY', \"O'CONN...   \n",
      "\n",
      "                                        dissent_judges  topic_id  cite_count  \\\n",
      "0                                                   []       1.0      2926.0   \n",
      "1                                 ['THOMAS, CLARENCE']       8.0       117.0   \n",
      "2                                                   []       1.0     23364.0   \n",
      "4    ['REHNQUIST, WILLIAM', 'SCALIA, ANTONIN', 'THO...      10.0        84.0   \n",
      "5                                                   []       4.0      4230.0   \n",
      "..                                                 ...       ...         ...   \n",
      "815  ['KENNEDY, ANTHONY', 'REHNQUIST, WILLIAM', 'SC...       2.0      1236.0   \n",
      "816  ['BREYER, STEPHEN', 'GINSBURG, RUTH', \"O'CONNO...       1.0      3120.0   \n",
      "817  ['BREYER, STEPHEN', 'GINSBURG, RUTH', 'SOUTER,...       9.0      4986.0   \n",
      "818                                                 []       1.0       736.0   \n",
      "819  ['BREYER, STEPHEN', 'SCALIA, ANTONIN', 'STEVEN...       4.0      2100.0   \n",
      "\n",
      "                                          opinion_text  year  log_cite_count  \n",
      "0    JUSTICE GINSBURG delivered the opinion of the ...  2003        7.981392  \n",
      "1    Justice Stevens delivered the opinion of the C...  2003        4.762174  \n",
      "2    Justice O'Connor delivered the opinion of the ...  2005       10.058952  \n",
      "4    Justice Kennedy delivered the opinion of the C...  2005        4.430817  \n",
      "5    Justice Kennedy delivered the opinion of the C...  2005        8.349957  \n",
      "..                                                 ...   ...             ...  \n",
      "815  JUSTICE BREYER delivered the opinion of the Co...  2001        7.119636  \n",
      "816  JUSTICE SOUTER delivered the opinion of the Co...  2001        8.045588  \n",
      "817  JUSTICE SCALIA delivered the opinion of the Co...  2001        8.514389  \n",
      "818  JUSTICE THOMAS delivered the opinion of the Co...  2001        6.601230  \n",
      "819  JUSTICE O'CONNOR delivered the opinion of the ...  2001        7.649693  \n",
      "\n",
      "[768 rows x 12 columns]\n"
     ]
    }
   ],
   "source": [
    "df.to_pickle('sc_cases_cleaned.pkl',compression='gzip')\n",
    "print(df)"
   ]
  },
  {
   "cell_type": "markdown",
   "metadata": {},
   "source": [
    "## Iterating over documents in a dataframe"
   ]
  },
  {
   "cell_type": "markdown",
   "metadata": {},
   "source": [
    "In the following, we show how to iterate over a dataframe and three different ways of how to tokenize documents."
   ]
  },
  {
   "cell_type": "code",
   "execution_count": 2,
   "metadata": {
    "ExecuteTime": {
     "end_time": "2022-03-03T18:54:24.535487Z",
     "start_time": "2022-03-03T18:54:23.692986Z"
    }
   },
   "outputs": [
    {
     "name": "stdout",
     "output_type": "stream",
     "text": [
      "Requirement already satisfied: spacy in c:\\apps\\anaconda3\\lib\\site-packages (3.6.1)\n",
      "Requirement already satisfied: setuptools in c:\\apps\\anaconda3\\lib\\site-packages (from spacy) (52.0.0.post20210125)\n",
      "Requirement already satisfied: requests<3.0.0,>=2.13.0 in c:\\apps\\anaconda3\\lib\\site-packages (from spacy) (2.25.1)\n",
      "Requirement already satisfied: murmurhash<1.1.0,>=0.28.0 in c:\\apps\\anaconda3\\lib\\site-packages (from spacy) (1.0.9)\n",
      "Requirement already satisfied: cymem<2.1.0,>=2.0.2 in c:\\apps\\anaconda3\\lib\\site-packages (from spacy) (2.0.7)\n",
      "Requirement already satisfied: packaging>=20.0 in c:\\apps\\anaconda3\\lib\\site-packages (from spacy) (20.9)\n",
      "Requirement already satisfied: spacy-legacy<3.1.0,>=3.0.11 in c:\\apps\\anaconda3\\lib\\site-packages (from spacy) (3.0.12)\n",
      "Requirement already satisfied: catalogue<2.1.0,>=2.0.6 in c:\\apps\\anaconda3\\lib\\site-packages (from spacy) (2.0.9)\n",
      "Requirement already satisfied: srsly<3.0.0,>=2.4.3 in c:\\apps\\anaconda3\\lib\\site-packages (from spacy) (2.4.7)\n",
      "Requirement already satisfied: tqdm<5.0.0,>=4.38.0 in c:\\apps\\anaconda3\\lib\\site-packages (from spacy) (4.59.0)\n",
      "Requirement already satisfied: typer<0.10.0,>=0.3.0 in c:\\apps\\anaconda3\\lib\\site-packages (from spacy) (0.9.0)\n",
      "Requirement already satisfied: jinja2 in c:\\apps\\anaconda3\\lib\\site-packages (from spacy) (2.11.3)\n",
      "Requirement already satisfied: preshed<3.1.0,>=3.0.2 in c:\\apps\\anaconda3\\lib\\site-packages (from spacy) (3.0.8)\n",
      "Requirement already satisfied: pydantic!=1.8,!=1.8.1,<3.0.0,>=1.7.4 in c:\\apps\\anaconda3\\lib\\site-packages (from spacy) (2.3.0)\n",
      "Requirement already satisfied: smart-open<7.0.0,>=5.2.1 in c:\\apps\\anaconda3\\lib\\site-packages (from spacy) (6.4.0)\n",
      "Requirement already satisfied: thinc<8.2.0,>=8.1.8 in c:\\apps\\anaconda3\\lib\\site-packages (from spacy) (8.1.12)\n",
      "Requirement already satisfied: numpy>=1.15.0 in c:\\apps\\anaconda3\\lib\\site-packages (from spacy) (1.21.0)\n",
      "Requirement already satisfied: spacy-loggers<2.0.0,>=1.0.0 in c:\\apps\\anaconda3\\lib\\site-packages (from spacy) (1.0.5)\n",
      "Requirement already satisfied: langcodes<4.0.0,>=3.2.0 in c:\\apps\\anaconda3\\lib\\site-packages (from spacy) (3.3.0)\n",
      "Requirement already satisfied: wasabi<1.2.0,>=0.9.1 in c:\\apps\\anaconda3\\lib\\site-packages (from spacy) (1.1.2)\n",
      "Requirement already satisfied: pathy>=0.10.0 in c:\\apps\\anaconda3\\lib\\site-packages (from spacy) (0.10.2)\n",
      "Requirement already satisfied: pyparsing>=2.0.2 in c:\\apps\\anaconda3\\lib\\site-packages (from packaging>=20.0->spacy) (2.4.7)\n",
      "Requirement already satisfied: typing-extensions>=4.6.1 in c:\\apps\\anaconda3\\lib\\site-packages (from pydantic!=1.8,!=1.8.1,<3.0.0,>=1.7.4->spacy) (4.8.0)\n",
      "Requirement already satisfied: pydantic-core==2.6.3 in c:\\apps\\anaconda3\\lib\\site-packages (from pydantic!=1.8,!=1.8.1,<3.0.0,>=1.7.4->spacy) (2.6.3)\n",
      "Requirement already satisfied: annotated-types>=0.4.0 in c:\\apps\\anaconda3\\lib\\site-packages (from pydantic!=1.8,!=1.8.1,<3.0.0,>=1.7.4->spacy) (0.5.0)\n",
      "Requirement already satisfied: chardet<5,>=3.0.2 in c:\\apps\\anaconda3\\lib\\site-packages (from requests<3.0.0,>=2.13.0->spacy) (4.0.0)\n",
      "Requirement already satisfied: urllib3<1.27,>=1.21.1 in c:\\apps\\anaconda3\\lib\\site-packages (from requests<3.0.0,>=2.13.0->spacy) (1.26.4)\n",
      "Requirement already satisfied: certifi>=2017.4.17 in c:\\apps\\anaconda3\\lib\\site-packages (from requests<3.0.0,>=2.13.0->spacy) (2020.12.5)\n",
      "Requirement already satisfied: idna<3,>=2.5 in c:\\apps\\anaconda3\\lib\\site-packages (from requests<3.0.0,>=2.13.0->spacy) (2.10)\n",
      "Requirement already satisfied: confection<1.0.0,>=0.0.1 in c:\\apps\\anaconda3\\lib\\site-packages (from thinc<8.2.0,>=8.1.8->spacy) (0.1.3)\n",
      "Requirement already satisfied: blis<0.8.0,>=0.7.8 in c:\\apps\\anaconda3\\lib\\site-packages (from thinc<8.2.0,>=8.1.8->spacy) (0.7.10)\n",
      "Requirement already satisfied: click<9.0.0,>=7.1.1 in c:\\apps\\anaconda3\\lib\\site-packages (from typer<0.10.0,>=0.3.0->spacy) (8.1.7)\n",
      "Requirement already satisfied: colorama in c:\\apps\\anaconda3\\lib\\site-packages (from click<9.0.0,>=7.1.1->typer<0.10.0,>=0.3.0->spacy) (0.4.6)\n",
      "Requirement already satisfied: MarkupSafe>=0.23 in c:\\apps\\anaconda3\\lib\\site-packages (from jinja2->spacy) (1.1.1)\n",
      "Collecting en-core-web-sm==3.6.0\n",
      "  Downloading https://github.com/explosion/spacy-models/releases/download/en_core_web_sm-3.6.0/en_core_web_sm-3.6.0-py3-none-any.whl (12.8 MB)\n",
      "Requirement already satisfied: spacy<3.7.0,>=3.6.0 in c:\\apps\\anaconda3\\lib\\site-packages (from en-core-web-sm==3.6.0) (3.6.1)\n",
      "Requirement already satisfied: smart-open<7.0.0,>=5.2.1 in c:\\apps\\anaconda3\\lib\\site-packages (from spacy<3.7.0,>=3.6.0->en-core-web-sm==3.6.0) (6.4.0)\n",
      "Requirement already satisfied: typer<0.10.0,>=0.3.0 in c:\\apps\\anaconda3\\lib\\site-packages (from spacy<3.7.0,>=3.6.0->en-core-web-sm==3.6.0) (0.9.0)\n",
      "Requirement already satisfied: thinc<8.2.0,>=8.1.8 in c:\\apps\\anaconda3\\lib\\site-packages (from spacy<3.7.0,>=3.6.0->en-core-web-sm==3.6.0) (8.1.12)\n",
      "Requirement already satisfied: tqdm<5.0.0,>=4.38.0 in c:\\apps\\anaconda3\\lib\\site-packages (from spacy<3.7.0,>=3.6.0->en-core-web-sm==3.6.0) (4.59.0)\n",
      "Requirement already satisfied: requests<3.0.0,>=2.13.0 in c:\\apps\\anaconda3\\lib\\site-packages (from spacy<3.7.0,>=3.6.0->en-core-web-sm==3.6.0) (2.25.1)\n",
      "Requirement already satisfied: murmurhash<1.1.0,>=0.28.0 in c:\\apps\\anaconda3\\lib\\site-packages (from spacy<3.7.0,>=3.6.0->en-core-web-sm==3.6.0) (1.0.9)\n",
      "Requirement already satisfied: numpy>=1.15.0 in c:\\apps\\anaconda3\\lib\\site-packages (from spacy<3.7.0,>=3.6.0->en-core-web-sm==3.6.0) (1.21.0)\n",
      "Requirement already satisfied: pydantic!=1.8,!=1.8.1,<3.0.0,>=1.7.4 in c:\\apps\\anaconda3\\lib\\site-packages (from spacy<3.7.0,>=3.6.0->en-core-web-sm==3.6.0) (2.3.0)\n",
      "Requirement already satisfied: spacy-loggers<2.0.0,>=1.0.0 in c:\\apps\\anaconda3\\lib\\site-packages (from spacy<3.7.0,>=3.6.0->en-core-web-sm==3.6.0) (1.0.5)\n",
      "Requirement already satisfied: langcodes<4.0.0,>=3.2.0 in c:\\apps\\anaconda3\\lib\\site-packages (from spacy<3.7.0,>=3.6.0->en-core-web-sm==3.6.0) (3.3.0)\n",
      "Requirement already satisfied: cymem<2.1.0,>=2.0.2 in c:\\apps\\anaconda3\\lib\\site-packages (from spacy<3.7.0,>=3.6.0->en-core-web-sm==3.6.0) (2.0.7)\n",
      "Requirement already satisfied: packaging>=20.0 in c:\\apps\\anaconda3\\lib\\site-packages (from spacy<3.7.0,>=3.6.0->en-core-web-sm==3.6.0) (20.9)\n",
      "Requirement already satisfied: wasabi<1.2.0,>=0.9.1 in c:\\apps\\anaconda3\\lib\\site-packages (from spacy<3.7.0,>=3.6.0->en-core-web-sm==3.6.0) (1.1.2)\n",
      "Requirement already satisfied: srsly<3.0.0,>=2.4.3 in c:\\apps\\anaconda3\\lib\\site-packages (from spacy<3.7.0,>=3.6.0->en-core-web-sm==3.6.0) (2.4.7)\n",
      "Requirement already satisfied: jinja2 in c:\\apps\\anaconda3\\lib\\site-packages (from spacy<3.7.0,>=3.6.0->en-core-web-sm==3.6.0) (2.11.3)\n",
      "Requirement already satisfied: pathy>=0.10.0 in c:\\apps\\anaconda3\\lib\\site-packages (from spacy<3.7.0,>=3.6.0->en-core-web-sm==3.6.0) (0.10.2)\n",
      "Requirement already satisfied: spacy-legacy<3.1.0,>=3.0.11 in c:\\apps\\anaconda3\\lib\\site-packages (from spacy<3.7.0,>=3.6.0->en-core-web-sm==3.6.0) (3.0.12)\n",
      "Requirement already satisfied: preshed<3.1.0,>=3.0.2 in c:\\apps\\anaconda3\\lib\\site-packages (from spacy<3.7.0,>=3.6.0->en-core-web-sm==3.6.0) (3.0.8)\n",
      "Requirement already satisfied: catalogue<2.1.0,>=2.0.6 in c:\\apps\\anaconda3\\lib\\site-packages (from spacy<3.7.0,>=3.6.0->en-core-web-sm==3.6.0) (2.0.9)\n",
      "Requirement already satisfied: setuptools in c:\\apps\\anaconda3\\lib\\site-packages (from spacy<3.7.0,>=3.6.0->en-core-web-sm==3.6.0) (52.0.0.post20210125)\n",
      "Requirement already satisfied: pyparsing>=2.0.2 in c:\\apps\\anaconda3\\lib\\site-packages (from packaging>=20.0->spacy<3.7.0,>=3.6.0->en-core-web-sm==3.6.0) (2.4.7)\n",
      "Requirement already satisfied: pydantic-core==2.6.3 in c:\\apps\\anaconda3\\lib\\site-packages (from pydantic!=1.8,!=1.8.1,<3.0.0,>=1.7.4->spacy<3.7.0,>=3.6.0->en-core-web-sm==3.6.0) (2.6.3)\n",
      "Requirement already satisfied: annotated-types>=0.4.0 in c:\\apps\\anaconda3\\lib\\site-packages (from pydantic!=1.8,!=1.8.1,<3.0.0,>=1.7.4->spacy<3.7.0,>=3.6.0->en-core-web-sm==3.6.0) (0.5.0)\n",
      "Requirement already satisfied: typing-extensions>=4.6.1 in c:\\apps\\anaconda3\\lib\\site-packages (from pydantic!=1.8,!=1.8.1,<3.0.0,>=1.7.4->spacy<3.7.0,>=3.6.0->en-core-web-sm==3.6.0) (4.8.0)\n",
      "Requirement already satisfied: urllib3<1.27,>=1.21.1 in c:\\apps\\anaconda3\\lib\\site-packages (from requests<3.0.0,>=2.13.0->spacy<3.7.0,>=3.6.0->en-core-web-sm==3.6.0) (1.26.4)\n",
      "Requirement already satisfied: certifi>=2017.4.17 in c:\\apps\\anaconda3\\lib\\site-packages (from requests<3.0.0,>=2.13.0->spacy<3.7.0,>=3.6.0->en-core-web-sm==3.6.0) (2020.12.5)\n",
      "Requirement already satisfied: chardet<5,>=3.0.2 in c:\\apps\\anaconda3\\lib\\site-packages (from requests<3.0.0,>=2.13.0->spacy<3.7.0,>=3.6.0->en-core-web-sm==3.6.0) (4.0.0)\n",
      "Requirement already satisfied: idna<3,>=2.5 in c:\\apps\\anaconda3\\lib\\site-packages (from requests<3.0.0,>=2.13.0->spacy<3.7.0,>=3.6.0->en-core-web-sm==3.6.0) (2.10)\n",
      "Requirement already satisfied: blis<0.8.0,>=0.7.8 in c:\\apps\\anaconda3\\lib\\site-packages (from thinc<8.2.0,>=8.1.8->spacy<3.7.0,>=3.6.0->en-core-web-sm==3.6.0) (0.7.10)\n",
      "Requirement already satisfied: confection<1.0.0,>=0.0.1 in c:\\apps\\anaconda3\\lib\\site-packages (from thinc<8.2.0,>=8.1.8->spacy<3.7.0,>=3.6.0->en-core-web-sm==3.6.0) (0.1.3)\n",
      "Requirement already satisfied: click<9.0.0,>=7.1.1 in c:\\apps\\anaconda3\\lib\\site-packages (from typer<0.10.0,>=0.3.0->spacy<3.7.0,>=3.6.0->en-core-web-sm==3.6.0) (8.1.7)\n",
      "Requirement already satisfied: colorama in c:\\apps\\anaconda3\\lib\\site-packages (from click<9.0.0,>=7.1.1->typer<0.10.0,>=0.3.0->spacy<3.7.0,>=3.6.0->en-core-web-sm==3.6.0) (0.4.6)\n",
      "Requirement already satisfied: MarkupSafe>=0.23 in c:\\apps\\anaconda3\\lib\\site-packages (from jinja2->spacy<3.7.0,>=3.6.0->en-core-web-sm==3.6.0) (1.1.1)\n",
      "\u001b[38;5;2m[+] Download and installation successful\u001b[0m\n",
      "You can now load the package via spacy.load('en_core_web_sm')\n"
     ]
    },
    {
     "name": "stderr",
     "output_type": "stream",
     "text": [
      "RuntimeError: module compiled against API version 0xf but this version of numpy is 0xe\n"
     ]
    }
   ],
   "source": [
    "#import spacy\n",
    "!pip install spacy\n",
    "\n",
    "!python -m spacy download en_core_web_sm\n",
    "# more infos at https://spacy.io/\n",
    "# nlp = spacy.load('en_core_web_sm')"
   ]
  },
  {
   "cell_type": "code",
   "execution_count": 16,
   "metadata": {
    "ExecuteTime": {
     "end_time": "2022-03-03T18:54:34.516885Z",
     "start_time": "2022-03-03T18:54:24.536688Z"
    }
   },
   "outputs": [],
   "source": [
    "processed = {} # empty python dictionary for processed data\n",
    "# iterate over rows\n",
    "for i, row in df.iterrows():\n",
    "    if i >= 10:\n",
    "        break\n",
    "    docid = i # make document identifier\n",
    "    text = row['opinion_text']     # get text snippet\n",
    "    document = nlp(text) # get sentences/tokens\n",
    "    processed[docid] = document # add to dictionary    "
   ]
  },
  {
   "cell_type": "code",
   "execution_count": 17,
   "metadata": {
    "ExecuteTime": {
     "end_time": "2022-03-03T18:54:34.519332Z",
     "start_time": "2022-03-03T18:54:34.517544Z"
    }
   },
   "outputs": [
    {
     "name": "stdout",
     "output_type": "stream",
     "text": [
      "opinion 1: JUSTICE GINSBURG delivered the opinion of the Court.\n",
      "\n",
      " A motion by a federal prisoner for postconviction relief under 28 U.S.C. § 2255 is subject to a one-year time limitation that generally runs from \"the date on which the judgment of conviction becomes final.\" \n",
      "\n",
      " opinion 2: Justice Stevens delivered the opinion of the Court. \n",
      "\n",
      "In most of the United States, not including California, the minimum price paid to dairy farmers producing raw milk is regulated pursuant to federal marketing orders.  Those orders guarantee a uniform price for the producers,\n"
     ]
    }
   ],
   "source": [
    "# first and second opinions\n",
    "print (\"opinion 1:\", processed[0][:50], \"\\n\\n\", \"opinion 2:\", processed[1][:50])"
   ]
  },
  {
   "cell_type": "markdown",
   "metadata": {},
   "source": [
    "Let's see in more detail what information we can extract from documents procesesd using spaCy: "
   ]
  },
  {
   "cell_type": "code",
   "execution_count": 18,
   "metadata": {
    "ExecuteTime": {
     "end_time": "2022-03-03T18:54:34.525070Z",
     "start_time": "2022-03-03T18:54:34.521139Z"
    }
   },
   "outputs": [
    {
     "name": "stdout",
     "output_type": "stream",
     "text": [
      "JUSTICE PROPN compound\n",
      "GINSBURG PROPN nsubj\n",
      "delivered VERB ROOT\n",
      "the DET det\n",
      "opinion NOUN dobj\n",
      "of ADP prep\n",
      "the DET det\n",
      "Court PROPN pobj\n",
      ". PUNCT punct\n",
      "\n",
      "\n",
      "  SPACE dep\n",
      "A DET det\n",
      "motion NOUN nsubj\n",
      "by ADP prep\n",
      "a DET det\n",
      "federal ADJ amod\n",
      "prisoner NOUN pobj\n",
      "for ADP prep\n",
      "postconviction NOUN compound\n",
      "relief NOUN pobj\n",
      "under ADP prep\n",
      "28 NUM nummod\n",
      "U.S.C. PROPN compound\n",
      "§ PROPN pobj\n",
      "2255 NUM nummod\n",
      "is AUX ROOT\n",
      "subject ADJ acomp\n",
      "to ADP prep\n",
      "a DET det\n",
      "one NUM nummod\n",
      "- PUNCT punct\n",
      "year NOUN compound\n",
      "time NOUN compound\n",
      "limitation NOUN pobj\n",
      "that PRON nsubj\n",
      "generally ADV advmod\n",
      "runs VERB relcl\n",
      "from ADP prep\n",
      "\" PUNCT punct\n",
      "the DET det\n",
      "date NOUN pobj\n",
      "on ADP prep\n",
      "which PRON pobj\n",
      "the DET det\n",
      "judgment NOUN nsubj\n",
      "of ADP prep\n",
      "conviction NOUN pobj\n",
      "becomes VERB relcl\n",
      "final ADJ acomp\n",
      ". PUNCT punct\n",
      "\" PUNCT punct\n"
     ]
    }
   ],
   "source": [
    "for token in processed[0][:50]:\n",
    "       print(token.text, token.pos_, token.dep_)"
   ]
  },
  {
   "cell_type": "markdown",
   "metadata": {},
   "source": [
    "alternatively, we can preprocess with gensim"
   ]
  },
  {
   "cell_type": "code",
   "execution_count": 19,
   "metadata": {
    "ExecuteTime": {
     "end_time": "2022-03-03T18:54:35.152483Z",
     "start_time": "2022-03-03T18:54:34.525947Z"
    }
   },
   "outputs": [
    {
     "name": "stdout",
     "output_type": "stream",
     "text": [
      "opinion 1: ['justice', 'ginsburg', 'delivered', 'the', 'opinion', 'of', 'the', 'court', 'motion', 'by', 'federal', 'prisoner', 'for', 'postconviction', 'relief', 'under', 'is', 'subject', 'to', 'one', 'year', 'time', 'limitation', 'that', 'generally', 'runs', 'from', 'the', 'date', 'on', 'which', 'the', 'judgment', 'of', 'conviction', 'becomes', 'final', 'this', 'case', 'concerns', 'the', 'starting', 'date', 'for', 'the', 'one', 'year', 'limitation', 'it', 'presents'] \n",
      "\n",
      " opinion 2: ['justice', 'stevens', 'delivered', 'the', 'opinion', 'of', 'the', 'court', 'in', 'most', 'of', 'the', 'united', 'states', 'not', 'including', 'california', 'the', 'minimum', 'price', 'paid', 'to', 'dairy', 'farmers', 'producing', 'raw', 'milk', 'is', 'regulated', 'pursuant', 'to', 'federal', 'marketing', 'orders', 'those', 'orders', 'guarantee', 'uniform', 'price', 'for', 'the', 'producers', 'but', 'through', 'pooling', 'mechanisms', 'require', 'the', 'processors', 'of']\n"
     ]
    }
   ],
   "source": [
    "#!pip install gensim\n",
    "\n",
    "from gensim.utils import simple_preprocess\n",
    "\n",
    "processed = {} # empty python dictionary for processed data\n",
    "# iterate over rows\n",
    "for i, row in df.iterrows():\n",
    "    docid = i # make document identifier\n",
    "    text = row['opinion_text']     # get text snippet\n",
    "    document = simple_preprocess(text) # get sentences/tokens\n",
    "    processed[docid] = document # add to dictionary    \n",
    "    if i > 100:\n",
    "        break\n",
    "# first and second opinions\n",
    "print (\"opinion 1:\", processed[0][:50], \"\\n\\n\", \"opinion 2:\", processed[1][:50]) # note how simple preprocess drops punctuation"
   ]
  },
  {
   "cell_type": "markdown",
   "metadata": {},
   "source": [
    "or with nltk"
   ]
  },
  {
   "cell_type": "code",
   "execution_count": 20,
   "metadata": {
    "ExecuteTime": {
     "end_time": "2022-03-03T18:54:37.494062Z",
     "start_time": "2022-03-03T18:54:35.153364Z"
    }
   },
   "outputs": [
    {
     "name": "stdout",
     "output_type": "stream",
     "text": [
      "opinion 1: ['justice', 'ginsburg', 'delivered', 'the', 'opinion', 'of', 'the', 'court', '.', 'a', 'motion', 'by', 'a', 'federal', 'prisoner', 'for', 'postconviction', 'relief', 'under', '28', 'u.s.c', '.', '§', '2255', 'is', 'subject', 'to', 'a', 'one-year', 'time', 'limitation', 'that', 'generally', 'runs', 'from', '``', 'the', 'date', 'on', 'which', 'the', 'judgment', 'of', 'conviction', 'becomes', 'final', '.', \"''\", '§', '2255'] \n",
      "\n",
      " opinion 2: ['justice', 'stevens', 'delivered', 'the', 'opinion', 'of', 'the', 'court', '.', 'in', 'most', 'of', 'the', 'united', 'states', ',', 'not', 'including', 'california', ',', 'the', 'minimum', 'price', 'paid', 'to', 'dairy', 'farmers', 'producing', 'raw', 'milk', 'is', 'regulated', 'pursuant', 'to', 'federal', 'marketing', 'orders', '.', 'those', 'orders', 'guarantee', 'a', 'uniform', 'price', 'for', 'the', 'producers', ',', 'but', 'through']\n"
     ]
    }
   ],
   "source": [
    "from nltk.tokenize import word_tokenize\n",
    "#import nltk\n",
    "#nltk.download('punkt')\n",
    "processed = {} # empty python dictionary for processed data\n",
    "# iterate over rows\n",
    "for i, row in df.iterrows():\n",
    "    docid = i # make document identifier\n",
    "    text = row['opinion_text']     # get text snippet\n",
    "    document = word_tokenize(text.lower()) # get sentences/tokens\n",
    "    processed[docid] = document # add to dictionary    \n",
    "    if i > 100:\n",
    "        break\n",
    "# first and second opinions\n",
    "print (\"opinion 1:\", processed[0][:50], \"\\n\\n\", \"opinion 2:\", processed[1][:50]) # note that we just tokenize and keep all tokens\n"
   ]
  },
  {
   "cell_type": "markdown",
   "metadata": {},
   "source": [
    "## Saving data"
   ]
  },
  {
   "cell_type": "code",
   "execution_count": 30,
   "metadata": {
    "ExecuteTime": {
     "end_time": "2022-03-03T18:54:37.554721Z",
     "start_time": "2022-03-03T18:54:37.494841Z"
    }
   },
   "outputs": [],
   "source": [
    "# save as python pickle\n",
    "pd.to_pickle(processed, 'processed_corpus.pkl')\n",
    "# delete it\n",
    "import os \n",
    "os.remove('processed_corpus.pkl')"
   ]
  },
  {
   "cell_type": "code",
   "execution_count": 31,
   "metadata": {
    "ExecuteTime": {
     "end_time": "2022-03-03T18:54:37.557086Z",
     "start_time": "2022-03-03T18:54:37.555589Z"
    }
   },
   "outputs": [],
   "source": [
    "# Merging Data-frames Example\n",
    "# Perform a left join:\n",
    "# df_merged = pd.merge(df1,df2,on='id', how='left', validation='m:1')"
   ]
  },
  {
   "cell_type": "markdown",
   "metadata": {},
   "source": [
    "# Quantity of Text"
   ]
  },
  {
   "cell_type": "markdown",
   "metadata": {},
   "source": [
    "Count words per document."
   ]
  },
  {
   "cell_type": "code",
   "execution_count": 26,
   "metadata": {
    "ExecuteTime": {
     "end_time": "2022-02-25T09:35:39.259306Z",
     "start_time": "2022-02-25T09:35:39.016620Z"
    }
   },
   "outputs": [
    {
     "data": {
      "text/plain": [
       "<AxesSubplot:>"
      ]
     },
     "execution_count": 26,
     "metadata": {},
     "output_type": "execute_result"
    },
    {
     "data": {
      "image/png": "[encoded data removed]",
      "text/plain": [
       "<Figure size 432x288 with 1 Axes>"
      ]
     },
     "metadata": {
      "needs_background": "light"
     },
     "output_type": "display_data"
    }
   ],
   "source": [
    "def get_words_per_doc(txt):\n",
    "    # split text into words and count them.\n",
    "    return len(txt.split()) \n",
    "\n",
    "# apply to our dataframe\n",
    "df['num_words'] = df['opinion_text'].apply(get_words_per_doc)\n",
    "df['num_words'].hist()"
   ]
  },
  {
   "cell_type": "code",
   "execution_count": 27,
   "metadata": {
    "ExecuteTime": {
     "end_time": "2022-02-25T09:35:42.316770Z",
     "start_time": "2022-02-25T09:35:42.234336Z"
    }
   },
   "outputs": [
    {
     "data": {
      "image/png": "[encoded data removed]",
      "text/plain": [
       "<Figure size 432x288 with 1 Axes>"
      ]
     },
     "metadata": {
      "needs_background": "light"
     },
     "output_type": "display_data"
    }
   ],
   "source": [
    "# plot length by year\n",
    "ax = df.groupby('year')['num_words'].mean().plot()\n",
    "ax.set_ylabel('Average Opinion Length')\n",
    "import matplotlib.pyplot as plt\n",
    "plt.show()"
   ]
  },
  {
   "cell_type": "code",
   "execution_count": 28,
   "metadata": {
    "ExecuteTime": {
     "end_time": "2022-02-25T09:35:44.161062Z",
     "start_time": "2022-02-25T09:35:43.959415Z"
    }
   },
   "outputs": [
    {
     "data": {
      "text/plain": [
       "<seaborn.axisgrid.JointGrid at 0x7f2ad5a09640>"
      ]
     },
     "execution_count": 28,
     "metadata": {},
     "output_type": "execute_result"
    },
    {
     "data": {
      "image/png": "[encoded data removed]",
      "text/plain": [
       "<Figure size 432x432 with 3 Axes>"
      ]
     },
     "metadata": {
      "needs_background": "light"
     },
     "output_type": "display_data"
    }
   ],
   "source": [
    "df['log_words'] = np.log(df['num_words'])\n",
    "import seaborn as sns\n",
    "sns.jointplot(data=df,x='year', y='log_words',kind='hex')"
   ]
  },
  {
   "cell_type": "markdown",
   "metadata": {},
   "source": [
    "Build a frequency distribution over words with `Counter`."
   ]
  },
  {
   "cell_type": "code",
   "execution_count": 29,
   "metadata": {
    "ExecuteTime": {
     "end_time": "2022-02-25T09:37:22.448696Z",
     "start_time": "2022-02-25T09:37:22.317909Z"
    }
   },
   "outputs": [
    {
     "data": {
      "text/plain": [
       "[('the', 31600),\n",
       " ('of', 15978),\n",
       " ('to', 12330),\n",
       " ('a', 8954),\n",
       " ('that', 8521),\n",
       " ('in', 8324),\n",
       " ('and', 7619),\n",
       " ('at', 5044),\n",
       " ('for', 4496),\n",
       " ('is', 4032),\n",
       " ('not', 3577),\n",
       " ('l.', 3216),\n",
       " ('ed.', 3190),\n",
       " ('as', 3048),\n",
       " ('or', 2904),\n",
       " ('s.', 2828),\n",
       " ('§', 2738),\n",
       " ('ct.', 2735),\n",
       " ('court', 2615),\n",
       " ('on', 2587)]"
      ]
     },
     "execution_count": 29,
     "metadata": {},
     "output_type": "execute_result"
    }
   ],
   "source": [
    "from collections import Counter\n",
    "freqs = Counter()\n",
    "for i, row in df.iterrows():\n",
    "    freqs.update(row['opinion_text'].lower().split())\n",
    "    if i > 100:\n",
    "        break\n",
    "freqs.most_common()[:20] # can use most frequent words as style/function words"
   ]
  },
  {
   "cell_type": "markdown",
   "metadata": {
    "toc-hr-collapsed": false
   },
   "source": [
    "# Dictionary / Matching Methods"
   ]
  },
  {
   "cell_type": "markdown",
   "metadata": {},
   "source": [
    "## Sentiment Analysis"
   ]
  },
  {
   "cell_type": "code",
   "execution_count": 30,
   "metadata": {
    "ExecuteTime": {
     "end_time": "2022-02-25T08:49:07.616803Z",
     "start_time": "2022-02-25T08:49:07.610484Z"
    }
   },
   "outputs": [
    {
     "name": "stdout",
     "output_type": "stream",
     "text": [
      "3.2.0\n"
     ]
    }
   ],
   "source": [
    "#!pip install spacytextblob\n",
    "# textblob sentiment analysis: https://github.com/sloria/TextBlob\n",
    "\n",
    "import spacy\n",
    "from spacytextblob.spacytextblob import SpacyTextBlob\n",
    "print (spacy.__version__)"
   ]
  },
  {
   "cell_type": "code",
   "execution_count": 31,
   "metadata": {
    "ExecuteTime": {
     "end_time": "2022-02-25T08:49:09.741266Z",
     "start_time": "2022-02-25T08:49:08.751772Z"
    }
   },
   "outputs": [
    {
     "name": "stdout",
     "output_type": "stream",
     "text": [
      "polarity 0.05404135338345859\n",
      "subjectivity 0.5065358709273183\n"
     ]
    }
   ],
   "source": [
    "# Dictionary-Based Sentiment Analysis\n",
    "#nltk.download('vader_lexicon')\n",
    "\n",
    "nlp = spacy.load('en_core_web_sm')\n",
    "# spacy_text_blob = SpacyTextBlob()\n",
    "nlp.add_pipe('spacytextblob')\n",
    "doc = nlp(df.iloc[0][\"opinion_text\"])\n",
    "#from nltk.sentiment.vader import SentimentIntensityAnalyzer\n",
    "#sid = SentimentIntensityAnalyzer()\n",
    "#polarity = sid.polarity_scores(text)\n",
    "print(\"polarity\", doc._.polarity) # sentimentintensityanalayzer nltk: {'neg': 0.134, 'neu': 0.785, 'pos': 0.081, 'compound': -0.9999}\n",
    "print (\"subjectivity\", doc._.subjectivity)"
   ]
  },
  {
   "cell_type": "code",
   "execution_count": 32,
   "metadata": {
    "ExecuteTime": {
     "end_time": "2022-02-25T08:50:48.585836Z",
     "start_time": "2022-02-25T08:49:12.565542Z"
    }
   },
   "outputs": [],
   "source": [
    "# sample 10% of the dataset\n",
    "dfs = df.sample(frac=.1) \n",
    "# apply compound sentiment score to data-frame\n",
    "def get_sentiment(snippet):\n",
    "    #return sid.polarity_scores(snippet)['compound']\n",
    "    return nlp(snippet)._.polarity\n",
    "dfs['sentiment'] = dfs['opinion_text'].apply(get_sentiment)"
   ]
  },
  {
   "cell_type": "code",
   "execution_count": 33,
   "metadata": {
    "ExecuteTime": {
     "end_time": "2022-02-25T08:50:48.590377Z",
     "start_time": "2022-02-25T08:50:48.586905Z"
    }
   },
   "outputs": [
    {
     "data": {
      "text/plain": [
       "[' \\n\\n This case presents the question whether uses of patented inventions in preclinical research, the',\n",
       " 't. \\n\\n This case requires us to decide whether the use of race as a factor in student admissions by t',\n",
       " ' \\n\\n  The State of Washington prohibits labor unions from using the agency-shop fees of a nonmember f',\n",
       " ' \\n\\n The question is whether the provision of the Fair Labor Standards Act of 1938 (FLSA or Act), tha',\n",
       " \"t. \\n\\n We granted certiorari to resolve whether the Nevada Supreme Court's refusal to extend full fai\"]"
      ]
     },
     "execution_count": 33,
     "metadata": {},
     "output_type": "execute_result"
    }
   ],
   "source": [
    "dfs.sort_values('sentiment',inplace=True)\n",
    "# print beginning of most positive documents\n",
    "[x[50:150] for x  in dfs[-5:]['opinion_text']]"
   ]
  },
  {
   "cell_type": "code",
   "execution_count": 34,
   "metadata": {
    "ExecuteTime": {
     "end_time": "2022-02-25T08:50:48.593796Z",
     "start_time": "2022-02-25T08:50:48.591101Z"
    }
   },
   "outputs": [
    {
     "data": {
      "text/plain": [
       "['\\n\\nThe False Claims Act (FCA) imposes civil liability on any person who knowingly uses a \"false recor',\n",
       " ' \\n\\nWhen an alien is found ineligible to remain in the United States, the process for selecting the c',\n",
       " 'he Court. \\n\\n Petitioner Josue Leocal, a Haitian citizen who is a lawful permanent resident of the Un',\n",
       " \" \\n\\n Respondent Arturo Recuenco was convicted of assault in the second degree based on the jury's fin\",\n",
       " 'he Court. \\n\\n InTotten v. United States,92 U.S. 105, 23 L. Ed. 605 (1876), we held that public policy']"
      ]
     },
     "execution_count": 34,
     "metadata": {},
     "output_type": "execute_result"
    }
   ],
   "source": [
    "# print beginning of most negative documents\n",
    "[x[50:150] for x  in dfs[:5]['opinion_text']]"
   ]
  },
  {
   "cell_type": "code",
   "execution_count": 35,
   "metadata": {
    "ExecuteTime": {
     "end_time": "2022-02-25T08:51:03.211610Z",
     "start_time": "2022-02-25T08:50:58.841088Z"
    }
   },
   "outputs": [
    {
     "data": {
      "text/plain": [
       "[' Court. \\n\\n  Under the Internal Revenue Code, individuals may subtract from their adjusted gross inco',\n",
       " 't and delivered an opinion, in which Justice Souter, Justice Ginsburg, and Justice Breyer join. \\n\\n T',\n",
       " '.\\n\\nA citizen of Hawaii comes before us claiming that an explicit, race-based voting qualification ha',\n",
       " 't and delivered the opinion of the Court with respect to Parts I, II, III, and VI, an opinion with r',\n",
       " 't. \\n\\n  For private actions brought under 42 U.S.C. § 1983 and other specified measures designed to s']"
      ]
     },
     "execution_count": 35,
     "metadata": {},
     "output_type": "execute_result"
    }
   ],
   "source": [
    "from nltk.sentiment.vader import SentimentIntensityAnalyzer\n",
    "sid = SentimentIntensityAnalyzer()\n",
    "# sample 20% of the dataset\n",
    "dfs = df.sample(frac=.1) \n",
    "\n",
    "# apply compound sentiment score to data-frame\n",
    "def get_sentiment(snippet):\n",
    "    return sid.polarity_scores(snippet)['compound']\n",
    "dfs['sentiment_vader'] = dfs['opinion_text'].apply(get_sentiment)\n",
    "dfs.sort_values('sentiment_vader',inplace=True)\n",
    "# print beginning of most positive documents\n",
    "[x[50:150] for x  in dfs[-5:]['opinion_text']]"
   ]
  },
  {
   "cell_type": "markdown",
   "metadata": {},
   "source": [
    "## Sentiment Analysis with Huggingface "
   ]
  },
  {
   "cell_type": "code",
   "execution_count": null,
   "metadata": {
    "ExecuteTime": {
     "end_time": "2022-02-25T08:06:44.820739Z",
     "start_time": "2022-02-25T08:06:33.006201Z"
    }
   },
   "outputs": [],
   "source": [
    "#!pip install transformers\n",
    "\n",
    "from tqdm import tqdm as tqdm\n",
    "from transformers import pipeline, AutoModelForTokenClassification, AutoTokenizer\n",
    "pipe = pipeline(\"sentiment-analysis\")"
   ]
  },
  {
   "cell_type": "code",
   "execution_count": null,
   "metadata": {
    "ExecuteTime": {
     "end_time": "2022-02-25T08:12:48.077724Z",
     "start_time": "2022-02-25T08:12:33.578170Z"
    }
   },
   "outputs": [],
   "source": [
    "!pip install torch\n",
    "\n",
    "from torch.utils.data import Dataset\n",
    "from tqdm.auto import tqdm\n",
    "\n",
    "class OpinionDataset(Dataset):\n",
    "    def __init__(self, df):\n",
    "        super().__init__()\n",
    "        self.df = df\n",
    "    def __len__(self):\n",
    "        return len(df)\n",
    "\n",
    "    def __getitem__(self, i):\n",
    "        return df.iloc[i][\"opinion_text\"][:512] # BERT max seq length\n",
    "\n",
    "\n",
    "dataset = OpinionDataset(df)\n",
    "sentiments = []\n",
    "\n",
    "for out in tqdm(pipe(dataset, batch_size=16), total=len(dataset)):\n",
    "        if out['label'] == \"NEGATIVE\":\n",
    "            sentiments.append(-1*out['score'])\n",
    "        else:\n",
    "            sentiments.append(out['score'])"
   ]
  },
  {
   "cell_type": "code",
   "execution_count": null,
   "metadata": {
    "ExecuteTime": {
     "end_time": "2022-02-25T08:08:31.770176Z",
     "start_time": "2022-02-25T08:08:31.762865Z"
    }
   },
   "outputs": [],
   "source": [
    "df['sentiments'] = sentiments"
   ]
  },
  {
   "cell_type": "code",
   "execution_count": null,
   "metadata": {
    "ExecuteTime": {
     "end_time": "2022-02-25T08:08:32.130342Z",
     "start_time": "2022-02-25T08:08:32.122275Z"
    }
   },
   "outputs": [],
   "source": [
    "df.sort_values('sentiments',inplace=True)\n",
    "# print beginning of most positive documents\n",
    "[x[50:150] for x  in df[-5:]['opinion_text']]"
   ]
  },
  {
   "cell_type": "code",
   "execution_count": null,
   "metadata": {
    "ExecuteTime": {
     "end_time": "2022-02-25T08:08:40.938052Z",
     "start_time": "2022-02-25T08:08:40.924251Z"
    }
   },
   "outputs": [],
   "source": [
    "# print beginning of most negative documents\n",
    "[x[50:150] for x  in df[:5]['opinion_text']]"
   ]
  },
  {
   "cell_type": "markdown",
   "metadata": {},
   "source": [
    "## StopWords"
   ]
  },
  {
   "cell_type": "code",
   "execution_count": 36,
   "metadata": {
    "ExecuteTime": {
     "end_time": "2022-02-21T10:19:55.651335Z",
     "start_time": "2022-02-21T10:19:55.649820Z"
    },
    "scrolled": true
   },
   "outputs": [
    {
     "name": "stdout",
     "output_type": "stream",
     "text": [
      "{'already', 'nowhere', 'seem', 'up', 'when', 'make', 'hereafter', '‘d', 'so', 'toward', 'some', 'many', 'none', 'she', 'else', 'everywhere', 'first', 'beside', 'must', 'ten', 'throughout', 'seemed', 'besides', 'after', 'always', 'before', 'whereby', 'their', 'them', 'nobody', 'more', 'could', 'who', 'moreover', 'even', 'do', 'a', 'same', 'everything', 'the', 'above', 'would', 'neither', 'here', 'while', 'regarding', 'anywhere', 'third', '’m', 'used', 'can', 'onto', 'others', 'which', 'namely', 'either', 'than', 'our', 'about', 'also', 'amount', 'five', 'please', 'against', 'what', 'around', 'cannot', 'ours', 'therein', 'latterly', 'often', '‘ve', 'how', 'whom', 'only', 'due', 'should', 'twenty', 'every', 'they', 'being', 'become', 'over', 'until', 'thru', 'less', '’re', 'be', 'top', 'rather', 'n’t', 'under', 'across', 'your', 'four', 'put', 'twelve', 'will', 'wherever', \"'s\", 'have', 'whole', 'really', 'sometimes', 'why', 'thereafter', \"'ve\", 'myself', 'nor', 'part', 'serious', 'an', \"n't\", 'least', 'formerly', 'is', 'beyond', 'call', 'take', 'any', 'through', 'sometime', 'bottom', 'though', 'next', 'fifteen', 'hence', \"'ll\", 'mine', 'further', 'see', 'herein', 'move', 'among', 'mostly', '’ll', 'those', 'her', 'himself', 're', 'am', 'whereas', 'give', 'were', 'ourselves', '‘m', 'hers', 'we', 'thereby', 'not', 'everyone', 'empty', 'with', 'three', 'themselves', 'unless', 'front', 'whose', 'that', 'too', 'almost', 'anyhow', 'such', 'my', 'whither', 'wherein', 'whenever', 'seems', 'he', 'whether', 'without', 'forty', 'yet', 'did', 'thus', 'otherwise', 'now', 'along', 'meanwhile', 'former', 'then', '’d', 'becoming', 'these', 'nine', 'hereupon', 'n‘t', 'its', 'in', 'something', 'latter', 'doing', 'much', 'nevertheless', 'well', 'seeming', 'again', 'done', 'own', 'it', 'elsewhere', 'each', 'us', 'you', 'nothing', 'herself', 'and', 'from', 'enough', 'down', 'sixty', 'no', 'within', 'six', 'somehow', 'itself', 'whatever', 'there', 'eight', 'alone', 'ever', 'anyway', 'below', 'full', 'into', 'side', 'behind', 'via', 'together', 'his', 'had', 'say', 'are', 'was', 'using', 'per', 'might', \"'m\", 'becomes', 'noone', 'beforehand', 'few', '‘re', 'most', 'amongst', 'became', 'hundred', 'back', 'between', 'both', 'name', 'i', 'upon', 'on', 'out', 'whereupon', 'towards', 'therefore', 'somewhere', 'for', 'quite', 'other', 'perhaps', 'eleven', 'indeed', 'because', 'may', 'several', '‘s', 'another', 'does', 'anything', 'various', 'very', 'to', 'except', 'although', 'never', 'whereafter', 'me', 'all', 'afterwards', 'someone', 'where', 'once', 'ca', 'get', 'off', 'thereupon', 'yourselves', 'keep', 'fifty', 'if', 'this', \"'d\", 'whence', 'show', 'one', 'last', '’s', 'has', '‘ll', 'him', 'since', 'yourself', 'but', 'however', 'or', 'thence', 'of', 'hereby', 'been', 'by', 'go', 'two', 'just', 'at', '’ve', 'still', 'yours', 'made', \"'re\", 'as', 'whoever', 'anyone', 'during'}\n"
     ]
    }
   ],
   "source": [
    "#from nltk.corpus import stopwords\n",
    "#stopwords = set(stopwords.words('english'))\n",
    "#stopwords\n",
    "from spacy.lang.en import stop_words\n",
    "print (stop_words.STOP_WORDS)"
   ]
  },
  {
   "cell_type": "code",
   "execution_count": 37,
   "metadata": {
    "ExecuteTime": {
     "end_time": "2022-02-21T10:19:55.654433Z",
     "start_time": "2022-02-21T10:19:55.652082Z"
    }
   },
   "outputs": [
    {
     "data": {
      "text/plain": [
       "191526"
      ]
     },
     "execution_count": 37,
     "metadata": {},
     "output_type": "execute_result"
    }
   ],
   "source": [
    "#stopfreq = np.sum([freqs[x] for x in stopwords])\n",
    "#stopfreq # 174132 for NLTK stopwords\n",
    "stopwords = stop_words.STOP_WORDS\n",
    "stopfreq = np.sum([freqs[x] for x in stopwords])\n",
    "stopfreq"
   ]
  },
  {
   "cell_type": "code",
   "execution_count": 38,
   "metadata": {
    "ExecuteTime": {
     "end_time": "2022-02-21T10:19:55.663598Z",
     "start_time": "2022-02-21T10:19:55.655124Z"
    }
   },
   "outputs": [
    {
     "data": {
      "text/plain": [
       "306516"
      ]
     },
     "execution_count": 38,
     "metadata": {},
     "output_type": "execute_result"
    }
   ],
   "source": [
    "otherfreq = np.sum([freqs[x] for x in freqs if x not in stopwords])\n",
    "otherfreq"
   ]
  },
  {
   "cell_type": "markdown",
   "metadata": {},
   "source": [
    "## RegEx"
   ]
  },
  {
   "cell_type": "markdown",
   "metadata": {},
   "source": [
    "Please refer to [RegExOne Regular Expressions Lessons](regexone.com) and [the python documentation](https://docs.python.org/3/howto/regex.html)."
   ]
  },
  {
   "cell_type": "code",
   "execution_count": 39,
   "metadata": {
    "ExecuteTime": {
     "end_time": "2022-02-24T19:55:30.599081Z",
     "start_time": "2022-02-24T19:55:30.582719Z"
    }
   },
   "outputs": [
    {
     "name": "stdout",
     "output_type": "stream",
     "text": [
      "['Justice Souter ']\n",
      "['Justice Breyer ']\n",
      "['Justice Stevens ']\n",
      "['Justice Souter ', 'Justice Ginsburg ', 'Justice Scalia ', 'Justice Ginsburg ']\n",
      "['Justice Alito ']\n"
     ]
    }
   ],
   "source": [
    "import re\n",
    "\n",
    "docs = dfs[:5]['opinion_text']\n",
    "\n",
    "# Extract words after justice.\n",
    "for doc in docs:    \n",
    "    print(re.findall(r'Justice \\w+ ', # pattern to match. always put 'r' in front of string so that backslashes are treated literally.\n",
    "                     doc,            # string\n",
    "                     re.IGNORECASE))  # ignore upper/lowercase (optional)"
   ]
  },
  {
   "cell_type": "code",
   "execution_count": 40,
   "metadata": {
    "ExecuteTime": {
     "end_time": "2022-02-24T19:55:36.006992Z",
     "start_time": "2022-02-24T19:55:35.971925Z"
    }
   },
   "outputs": [
    {
     "name": "stdout",
     "output_type": "stream",
     "text": [
      "['eight-level', 'immigration-enforcement', 'Yanez-Garcia', 'Briones-Mata', 'state-law', 'Hinojosa-Lopez', 'Briones-Mata', 'Cabrera-Sosa', 'Restrepo-Aguilar', 'Gonzales-Gomez', 'state-law', 'Palacios-Suarez', 'Ibarra-Galindo', 'state-law', 'Pornes-Garcia', 'Cazarez-Gutierrez', 'state-law', 'Urena-Ramirez', 'state-by', 'misdemeanor-felony', 'one-sided', 'misdemeanor-felony']\n",
      "['fact-based', 'Arguelles-Olivares', 'Dulal-Whiteway', 'circumstance-specific', 'firearm-law', 'five-word', 'circumstance-specific', 'Estrada-Espinoza', 'circumstance-specific', 'circumstance-specific', 'circumstance-specific', 'tax-evasion', 'circumstance-specific', 'circumstance-specific', 'judge-approved', 'judge-made', 'sentencing-related']\n",
      "['well-grounded', 'common-law', 'evil-meaning', 'evil-doing', 'reasonable-doubt', 'common-law', 'Burden-of', 'common-law', 'common-law', 'common-law', 'common-law', 'firearm-based', 'common-law', 'long-established', 'common-law', 'well-settled', 'by-then', 'common-law', 'post-Davis', 'long-established', 'common-law', 'offense-specific', 'long-established', 'common-law']\n",
      "['cross-motions', 'entitled-to', 'injury-in', 'out-of', 'out-of']\n",
      "['drug-trafficking', 'drug-delivery', 'felon-in', 'drug-trafficking', 'Corona-Sanchez', 'drug-delivery', 'felon-in', 'felon-in', 'short-hand', 'repeat-offender', 'first-time', 'so-called', 'drug-trafficking', 'long-past', 'state-court', 'one-half', 'one-half']\n"
     ]
    }
   ],
   "source": [
    "# Extract hyphenated words\n",
    "for doc in docs:    \n",
    "    print(re.findall(r'[a-z]+-[a-z]+', \n",
    "                     doc,            \n",
    "                     re.IGNORECASE))  "
   ]
  },
  {
   "cell_type": "code",
   "execution_count": 41,
   "metadata": {
    "ExecuteTime": {
     "end_time": "2022-02-24T19:55:55.577176Z",
     "start_time": "2022-02-24T19:55:55.538386Z"
    },
    "scrolled": true
   },
   "outputs": [
    {
     "name": "stdout",
     "output_type": "stream",
     "text": [
      "0 (568, 582) 102 Stat. 4469\n",
      "0 (612, 626) 108 Stat. 4320\n",
      "0 (2025, 2037) 2 (Nov. 2005\n",
      "0 (2498, 2511) 1 (Supp. 1997\n",
      "0 (2831, 2843) 543 U.S. 371\n",
      "0 (3882, 3894) 116 F.3d 308\n",
      "0 (4139, 4151) 417 F.3d 934\n",
      "0 (4728, 4740) 316 F.3d 506\n",
      "0 (4820, 4833) 168 F.3d 1271\n",
      "0 (4887, 4899) 130 F.3d 691\n",
      "0 (4950, 4962) 116 F.3d 308\n",
      "0 (5025, 5036) 81 F.3d 998\n",
      "0 (5092, 5103) 74 F.3d 361\n",
      "0 (5153, 5165) 441 F.3d 532\n",
      "0 (5259, 5271) 418 F.3d 692\n",
      "0 (5310, 5322) 280 F.3d 297\n",
      "0 (5520, 5533) 206 F.3d 1337\n",
      "0 (5641, 5653) 171 F.3d 142\n",
      "0 (5709, 5721) 382 F.3d 905\n",
      "0 (5818, 5829) 79 F.3d 315\n",
      "0 (5848, 5861) 547 U.S. 1054\n",
      "0 (6713, 6725) 174 F.3d 580\n",
      "0 (6727, 6740) 582 (CA5 1999\n",
      "0 (7268, 7281) 21 U.S.C. 801\n",
      "0 (8043, 8055) 510 U.S. 471\n",
      "0 (8356, 8367) 341 F.3d 51\n",
      "0 (8369, 8381) 57 (CA1 2003\n",
      "0 (8459, 8473) 681 (App. 1996\n",
      "0 (9014, 9026) 5 (2004), 22\n",
      "0 (9082, 9096) 115 (West 2003\n",
      "0 (9132, 9145) 35 (West 2003\n",
      "0 (9895, 9905) 543 U.S. 1\n",
      "0 (10275, 10292) 198 (Messner 1982\n",
      "0 (12270, 12281) 464 U.S. 16\n",
      "0 (14418, 14430) 540 U.S. 581\n",
      "1 (1012, 1024) 495 U.S. 575\n",
      "1 (2669, 2681) 523 F.3d 387\n",
      "1 (3248, 3259) 461 F.3d 45\n",
      "1 (3261, 3273) 55 (CA1 2006\n",
      "1 (3298, 3310) 523 F.3d 387\n",
      "1 (3363, 3375) 526 F.3d 171\n",
      "1 (3377, 3390) 178 (CA5 2008\n",
      "1 (3461, 3473) 501 F.3d 116\n",
      "1 (3475, 3488) 131 (CA2 2007\n",
      "1 (3537, 3550) 530 F.3d 1111\n",
      "1 (3552, 3566) 1117 (CA9 2008\n",
      "1 (3614, 3626) 479 F.3d 785\n",
      "1 (3628, 3642) 791 (CA11 2007\n",
      "1 (4129, 4141) 555 U.S. 122\n",
      "1 (5037, 5049) 550 U.S. 192\n",
      "1 (7597, 7610) 16 (West 2006\n",
      "1 (8181, 8192) 544 U.S. 13\n",
      "1 (10589, 10602) 546 F.3d 1147\n",
      "1 (10604, 10618) 1152 (CA9 2008\n",
      "1 (10704, 10716) 383 F.3d 144\n",
      "1 (10718, 10731) 164 (CA3 2004\n",
      "1 (10761, 10773) 436 F.3d 323\n",
      "1 (10795, 10807) 51 (CA2 2005\n",
      "1 (10926, 10937) 339 F.3d 91\n",
      "1 (10942, 10954) 96 (CA2 2003\n",
      "1 (11011, 11023) 544 F.3d 862\n",
      "1 (11029, 11042) 872 (CA7 2008\n",
      "1 (11072, 11084) 236 F.3d 130\n",
      "1 (11086, 11099) 136 (CA3 2001\n",
      "1 (13133, 13146) 2421 and 2422\n",
      "1 (13225, 13237) 544 F.3d 137\n",
      "1 (13243, 13256) 145 (CA2 2008\n",
      "1 (14825, 14836) 546 U.S. 21\n",
      "1 (16559, 16573) 110 Stat. 3009\n",
      "1 (17100, 17112) 555 U.S. 415\n",
      "1 (21331, 21342) 456 F.3d 88\n",
      "1 (21344, 21357) 107 (CA3 2006\n",
      "1 (21513, 21525) 429 F.3d 733\n",
      "1 (21531, 21544) 740 (CA7 2005\n",
      "1 (25566, 25578) 1585 or 1588\n",
      "1 (25888, 25900) 2381 or 2382\n",
      "1 (29681, 29694) 21 U.S.C. 801\n",
      "1 (29754, 29767) 21 U.S.C. 951\n",
      "1 (30109, 30122) 21 U.S.C. 802\n",
      "1 (31173, 31187) 110 Stat. 3009\n",
      "1 (31823, 31838) 103 (Supp. 1995\n",
      "1 (31846, 31859) 203 (1993), 5\n",
      "1 (31941, 31955) 487 (West 1985\n",
      "1 (32163, 32179) 2403 (Lexis 1987\n",
      "1 (32371, 32383) 1 (West 1997\n",
      "1 (33175, 33188) 20 (West 1996\n",
      "1 (33267, 33281) 13 (Lexis 1993\n",
      "1 (33331, 33346) 1451 (West 1991\n",
      "1 (33393, 33405) 3 (West 1991\n",
      "1 (33519, 33536) 4111 (1983), 4117\n",
      "1 (33736, 33749) 29 (1994), 11\n",
      "1 (33753, 33767) 30 (Supp. 1999\n",
      "1 (33911, 33925) 17 (Supp. 1997\n",
      "1 (34000, 34016) 1801 (Lexis 1996\n",
      "1 (34168, 34183) 195 (Lexis 1996\n",
      "1 (34235, 34248) 020 (1994), 9\n",
      "1 (34253, 34268) 030 (Supp. 2005\n",
      "1 (35227, 35242) 2109 (West 2000\n",
      "1 (35432, 35447) 2206 (West 1989\n",
      "1 (35564, 35579) 401 (Supp. 1996\n",
      "1 (36008, 36021) 5 (Lexis 1994\n",
      "1 (36439, 36456) 3 (deception), 35\n",
      "1 (36462, 36474) 4 (West 1993\n",
      "1 (36666, 36681) 3701 (1995), 21\n",
      "1 (36682, 36698) 3707 (Supp. 1996\n",
      "1 (36704, 36719) 3729 (1995), 21\n",
      "1 (36720, 36736) 3846 (Supp. 1996\n",
      "1 (36889, 36902) 17 (West 1995\n",
      "1 (37092, 37104) 6 (1994), 30\n",
      "1 (37108, 37121) 13 (1997), 30\n",
      "1 (37125, 37137) 7 (1989), 30\n",
      "1 (37297, 37310) 05 (West 1988\n",
      "1 (37625, 37639) 48 (Lexis 1996\n",
      "1 (37699, 37712) 02 (West 1994\n",
      "1 (38182, 38196) 122 (West 1994\n",
      "1 (38334, 38349) 012 (1994), 812\n",
      "1 (38564, 38576) 1 (West 1995\n",
      "1 (38873, 38885) 2 (West 1993\n",
      "1 (38892, 38904) 8 (West 1993\n",
      "1 (38936, 38948) 9 (West 1993\n",
      "1 (39235, 39249) 05 (Lexis 1997\n",
      "1 (39445, 39458) 1991 and 1995\n",
      "2 (1152, 1164) 413 F.3d 520\n",
      "2 (1279, 1291) 78 F.3d 1183\n",
      "2 (1293, 1307) 1186 (CA7 1996\n",
      "2 (1346, 1357) 28 F.3d 565\n",
      "2 (1367, 1378) 2 (CA6 1994\n",
      "2 (1406, 1419) 979 F.2d 1282\n",
      "2 (1421, 1435) 1287 (CA8 1992\n",
      "2 (1460, 1473) 546 U.S. 1135\n",
      "2 (2218, 2230) 444 U.S. 394\n",
      "2 (3090, 3102) 802 F.2d 115\n",
      "2 (3104, 3117) 118 (CA5 1986\n",
      "2 (4520, 4532) 524 U.S. 184\n",
      "2 (5037, 5049) 397 U.S. 358\n",
      "2 (6125, 6137) 444 U.S. 394\n",
      "2 (7139, 7151) 342 U.S. 246\n",
      "2 (8682, 8694) 471 U.S. 419\n",
      "2 (9253, 9265) 480 U.S. 228\n",
      "2 (9408, 9420) 432 U.S. 197\n",
      "2 (10732, 10744) 160 U.S. 469\n",
      "2 (11189, 11203) 281 (quoting 4\n",
      "2 (11335, 11347) 421 U.S. 684\n",
      "2 (16614, 16626) 165 U.S. 373\n",
      "2 (17609, 17621) 343 U.S. 790\n",
      "2 (17759, 17771) 369 U.S. 705\n",
      "2 (18171, 18182) 295 F.2d 26\n",
      "2 (18184, 18196) 28 (CA4 1961\n",
      "2 (18246, 18258) 148 F.2d 665\n",
      "2 (18260, 18274) 666 (CADC 1945\n",
      "2 (18299, 18307) 135 F. 1\n",
      "2 (18309, 18321) 10 (CA5 1905\n",
      "2 (18695, 18708) 98 Stat. 2057\n",
      "2 (19680, 19692) 532 U.S. 483\n",
      "2 (20437, 20449) 82 Stat. 197\n",
      "2 (20976, 20988) 82 Stat. 225\n",
      "2 (21584, 21596) 532 U.S. 483\n",
      "2 (21634, 21656) 722 (2001);Bailey, 444\n",
      "2 (22378, 22390) 260 U.S. 353\n",
      "2 (22468, 22479) 40 U.S. 141\n",
      "2 (22481, 22492) 15 Pet. 141\n",
      "2 (24249, 24261) 291 F.2d 150\n",
      "2 (24263, 24276) 152 (CA8 1961\n",
      "2 (25932, 25944) 192 F.2d 338\n",
      "2 (25954, 25966) 11 (CA9 1951\n",
      "2 (28155, 28167) 82 Stat. 233\n",
      "2 (28448, 28461) 100 Stat. 456\n",
      "3 (462, 473) 83 Stat 792\n",
      "3 (2161, 2173) 306 F.3d 170\n",
      "3 (3202, 3212) 330 F.3d 1\n",
      "3 (3285, 3296) 49 F.3d 597\n",
      "3 (3365, 3377) 888 F.2d 870\n",
      "3 (3436, 3448) 700 F.2d 971\n",
      "3 (3502, 3514) 665 F.2d 327\n",
      "3 (3580, 3592) 539 U.S. 957\n",
      "3 (3929, 3941) 88 Stat 1896\n",
      "3 (11016, 11027) 4 id.,§ 867\n",
      "3 (12277, 12291) 531 (July 1977\n",
      "3 (12312, 12324) 88 Stat 1907\n",
      "3 (17489, 17501) 514 U.S. 122\n",
      "3 (18491, 18503) 306 F.3d 170\n",
      "3 (18823, 18835) 421 U.S. 240\n",
      "3 (20324, 20335) 461 U.S. 95\n",
      "3 (20375, 20390) 1660 (1983). 10\n",
      "3 (21187, 21199) 90 Stat 1665\n",
      "3 (21273, 21285) 90 Stat 1687\n",
      "3 (21419, 21432) 100 Stat 1866\n",
      "3 (22863, 22875) 531 U.S. 159\n",
      "3 (22992, 23004) 447 U.S. 102\n",
      "3 (23047, 23063) 2051 (1980)). 11\n",
      "3 (23918, 23930) 665 F.2d 327\n",
      "3 (24044, 24056) 700 F.2d 971\n",
      "4 (484, 497) 464 F.3d 1072\n",
      "4 (3366, 3379) 21 U.S.C. 802\n",
      "4 (4124, 4137) 291 F.3d 1201\n",
      "4 (4166, 4179) 464 F.3d 1072\n",
      "4 (4296, 4308) 374 F.3d 467\n",
      "4 (4333, 4345) 543 U.S. 967\n",
      "4 (4509, 4521) 444 F.3d 710\n",
      "4 (4523, 4536) 712 (CA5 2006\n",
      "4 (4578, 4590) 326 F.3d 535\n",
      "4 (4592, 4605) 539 (CA4 2003\n",
      "4 (4672, 4685) 551 U.S. 1191\n",
      "4 (7743, 7755) 420 F.3d 111\n",
      "4 (7757, 7770) 132 (CA2 2005\n",
      "4 (7802, 7814) 354 F.3d 178\n",
      "4 (7820, 7833) 186 (CA2 2004\n",
      "4 (10476, 10488) 515 U.S. 389\n",
      "4 (10556, 10568) 385 U.S. 554\n",
      "4 (11179, 11191) 511 U.S. 738\n",
      "4 (11465, 11477) 446 U.S. 222\n",
      "4 (12092, 12104) 334 U.S. 728\n",
      "4 (12769, 12781) 520 U.S. 751\n",
      "4 (14174, 14186) 495 U.S. 575\n",
      "4 (18646, 18657) 544 U.S. 13\n",
      "4 (19553, 19562) 605 So. 2\n",
      "4 (19570, 19586) 1172 (Miss. 1992\n",
      "4 (19616, 19629) 13 Cal.3d 592\n",
      "4 (19660, 19673) 531 P.2d 1086\n",
      "4 (21504, 21516) 0 (Nov. 2007\n",
      "4 (21790, 21804) 100 Stat. 3207\n",
      "4 (22260, 22273) 402 N.W.2d 34\n",
      "4 (22372, 22384) 717 P.2d 413\n",
      "4 (22459, 22468) 106 Wn. 2\n",
      "4 (22484, 22497) 723 P.2d 1111\n",
      "4 (22553, 22567) 395 N.W.2d 469\n",
      "4 (22616, 22625) 496 So. 2\n",
      "4 (22716, 22728) 496 A.2d 752\n",
      "4 (23574, 23587) 98 Stat. 1987\n",
      "4 (24712, 24725) 98 Stat. 1991\n",
      "4 (24726, 24738) 1992 (new 18\n",
      "4 (24891, 24904) 98 Stat. 2032\n",
      "4 (25649, 25661) 503 U.S. 291\n",
      "4 (25943, 25956) 98 Stat. 2013\n",
      "4 (26019, 26033) 100 Stat. 3596\n"
     ]
    }
   ],
   "source": [
    "# extract citations\n",
    "for i, doc in enumerate(docs):\n",
    "    finder = re.finditer('\\d+ [^\\s]+ \\d+', # pattern to match ([^\\s] means non-white-space)\n",
    "                     doc)            # string\n",
    "    for m in finder: \n",
    "        print(i, m.span(),m.group()) # location (start,end) and matching string"
   ]
  },
  {
   "cell_type": "code",
   "execution_count": 42,
   "metadata": {
    "ExecuteTime": {
     "end_time": "2022-02-24T19:58:23.470487Z",
     "start_time": "2022-02-24T19:58:23.465391Z"
    }
   },
   "outputs": [],
   "source": [
    "# baker-bloom economic uncertainty\n",
    "pattern1 = r'(\\b)uncertain[a-z]*'\n",
    "pattern2 = r'(\\b)econom[a-z]*'\n",
    "pattern3 = r'(\\b)congress(\\b)|(\\b)deficit(\\b)|(\\b)federal reserve(\\b)|(\\b)legislation(\\b)|(\\b)regulation(\\b)|(\\b)white house(\\b)'\n",
    "\n"
   ]
  },
  {
   "cell_type": "code",
   "execution_count": 43,
   "metadata": {
    "ExecuteTime": {
     "end_time": "2022-02-24T19:57:51.856588Z",
     "start_time": "2022-02-24T19:57:51.848343Z"
    }
   },
   "outputs": [
    {
     "data": {
      "text/plain": [
       "<re.Match object; span=(30, 41), match='uncertainty'>"
      ]
     },
     "execution_count": 43,
     "metadata": {},
     "output_type": "execute_result"
    }
   ],
   "source": [
    "re.search(pattern1,'The White House tried to calm uncertainty in the markets.')"
   ]
  },
  {
   "cell_type": "code",
   "execution_count": 44,
   "metadata": {
    "ExecuteTime": {
     "end_time": "2022-02-24T19:57:57.465095Z",
     "start_time": "2022-02-24T19:57:57.455425Z"
    }
   },
   "outputs": [
    {
     "data": {
      "text/plain": [
       "<re.Match object; span=(46, 53), match='economy'>"
      ]
     },
     "execution_count": 44,
     "metadata": {},
     "output_type": "execute_result"
    }
   ],
   "source": [
    "re.search(pattern2,'The Congress tried to calm uncertainty in the economy.')"
   ]
  },
  {
   "cell_type": "code",
   "execution_count": 45,
   "metadata": {
    "ExecuteTime": {
     "end_time": "2022-02-24T19:58:25.501487Z",
     "start_time": "2022-02-24T19:58:25.495322Z"
    }
   },
   "outputs": [],
   "source": [
    "re.search(pattern3,'The Congress tried to calm uncertainty in the markets.')"
   ]
  },
  {
   "cell_type": "code",
   "execution_count": 46,
   "metadata": {
    "ExecuteTime": {
     "end_time": "2022-02-24T19:58:25.891850Z",
     "start_time": "2022-02-24T19:58:25.885051Z"
    }
   },
   "outputs": [
    {
     "data": {
      "text/plain": [
       "<re.Match object; span=(4, 12), match='Congress'>"
      ]
     },
     "execution_count": 46,
     "metadata": {},
     "output_type": "execute_result"
    }
   ],
   "source": [
    "re.search(pattern3,'The Congress tried to calm uncertainty in the markets.', re.IGNORECASE)"
   ]
  },
  {
   "cell_type": "code",
   "execution_count": 47,
   "metadata": {
    "ExecuteTime": {
     "end_time": "2022-02-24T19:58:27.988977Z",
     "start_time": "2022-02-24T19:58:27.983865Z"
    }
   },
   "outputs": [],
   "source": [
    "def indicates_uncertainty(doc):\n",
    "    m1 = re.search(pattern1, doc, re.IGNORECASE)\n",
    "    m2 = re.search(pattern2, doc, re.IGNORECASE)\n",
    "    m3 = re.search(pattern3, doc, re.IGNORECASE)\n",
    "    if m1 and m2 and m3:\n",
    "        return True\n",
    "    else:\n",
    "        return False"
   ]
  },
  {
   "cell_type": "code",
   "execution_count": 48,
   "metadata": {
    "ExecuteTime": {
     "end_time": "2022-02-24T19:58:31.927254Z",
     "start_time": "2022-02-24T19:58:31.915697Z"
    }
   },
   "outputs": [
    {
     "data": {
      "text/plain": [
       "True"
      ]
     },
     "execution_count": 48,
     "metadata": {},
     "output_type": "execute_result"
    }
   ],
   "source": [
    "indicates_uncertainty('The White House tried to calm uncertainty in the economy.')"
   ]
  },
  {
   "cell_type": "code",
   "execution_count": 49,
   "metadata": {
    "ExecuteTime": {
     "end_time": "2022-02-24T19:59:06.550986Z",
     "start_time": "2022-02-24T19:59:06.537632Z"
    }
   },
   "outputs": [
    {
     "data": {
      "text/plain": [
       "False"
      ]
     },
     "execution_count": 49,
     "metadata": {},
     "output_type": "execute_result"
    }
   ],
   "source": [
    "indicates_uncertainty('The White House tried to calm uncertainty in the markets.')"
   ]
  },
  {
   "cell_type": "code",
   "execution_count": 50,
   "metadata": {
    "ExecuteTime": {
     "end_time": "2022-02-25T09:55:15.135040Z",
     "start_time": "2022-02-25T09:55:13.319551Z"
    }
   },
   "outputs": [],
   "source": [
    "df['uncertainty'] = df['opinion_text'].apply(indicates_uncertainty)"
   ]
  },
  {
   "cell_type": "code",
   "execution_count": 51,
   "metadata": {},
   "outputs": [
    {
     "data": {
      "text/plain": [
       "0.057291666666666664"
      ]
     },
     "execution_count": 51,
     "metadata": {},
     "output_type": "execute_result"
    }
   ],
   "source": [
    "df.uncertainty.mean()"
   ]
  },
  {
   "cell_type": "code",
   "execution_count": 52,
   "metadata": {},
   "outputs": [
    {
     "data": {
      "text/plain": [
       "<AxesSubplot:xlabel='year'>"
      ]
     },
     "execution_count": 52,
     "metadata": {},
     "output_type": "execute_result"
    },
    {
     "data": {
      "image/png": "[encoded data removed]",
      "text/plain": [
       "<Figure size 432x288 with 1 Axes>"
      ]
     },
     "metadata": {
      "needs_background": "light"
     },
     "output_type": "display_data"
    }
   ],
   "source": [
    "df.groupby('year')['uncertainty'].mean().plot()"
   ]
  },
  {
   "cell_type": "markdown",
   "metadata": {},
   "source": [
    "## WordNet"
   ]
  },
  {
   "cell_type": "markdown",
   "metadata": {},
   "source": [
    "These examples are based on the [NLTK tutorial](https://www.nltk.org/howto/wordnet.html)."
   ]
  },
  {
   "cell_type": "code",
   "execution_count": 54,
   "metadata": {
    "ExecuteTime": {
     "end_time": "2022-02-25T09:58:47.493172Z",
     "start_time": "2022-02-25T09:58:47.486145Z"
    }
   },
   "outputs": [],
   "source": [
    "#nltk.download('wordnet')\n",
    "from nltk.corpus import wordnet as wn"
   ]
  },
  {
   "cell_type": "code",
   "execution_count": 55,
   "metadata": {
    "ExecuteTime": {
     "end_time": "2022-02-24T20:02:33.505007Z",
     "start_time": "2022-02-24T20:02:33.498808Z"
    }
   },
   "outputs": [
    {
     "data": {
      "text/plain": [
       "[Synset('judge.n.01'),\n",
       " Synset('evaluator.n.01'),\n",
       " Synset('judge.v.01'),\n",
       " Synset('evaluate.v.02'),\n",
       " Synset('estimate.v.01'),\n",
       " Synset('pronounce.v.02'),\n",
       " Synset('judge.v.05')]"
      ]
     },
     "execution_count": 55,
     "metadata": {},
     "output_type": "execute_result"
    }
   ],
   "source": [
    "wn.synsets('judge')"
   ]
  },
  {
   "cell_type": "code",
   "execution_count": 56,
   "metadata": {
    "ExecuteTime": {
     "end_time": "2022-02-25T09:59:45.313935Z",
     "start_time": "2022-02-25T09:59:45.305618Z"
    }
   },
   "outputs": [
    {
     "data": {
      "text/plain": [
       "[Synset('judge.v.01'),\n",
       " Synset('evaluate.v.02'),\n",
       " Synset('estimate.v.01'),\n",
       " Synset('pronounce.v.02'),\n",
       " Synset('judge.v.05')]"
      ]
     },
     "execution_count": 56,
     "metadata": {},
     "output_type": "execute_result"
    }
   ],
   "source": [
    "wn.synsets('judge', pos='v') # can filter on part of speech"
   ]
  },
  {
   "cell_type": "code",
   "execution_count": 57,
   "metadata": {
    "ExecuteTime": {
     "end_time": "2022-02-25T09:59:55.836509Z",
     "start_time": "2022-02-25T09:59:55.828784Z"
    }
   },
   "outputs": [
    {
     "data": {
      "text/plain": [
       "Synset('judge.n.01')"
      ]
     },
     "execution_count": 57,
     "metadata": {},
     "output_type": "execute_result"
    }
   ],
   "source": [
    "judge = wn.synset('judge.n.01')\n",
    "judge"
   ]
  },
  {
   "cell_type": "code",
   "execution_count": 58,
   "metadata": {
    "ExecuteTime": {
     "end_time": "2022-02-25T10:00:03.911052Z",
     "start_time": "2022-02-25T10:00:03.902438Z"
    }
   },
   "outputs": [
    {
     "data": {
      "text/plain": [
       "'a public official authorized to decide questions brought before a court of justice'"
      ]
     },
     "execution_count": 58,
     "metadata": {},
     "output_type": "execute_result"
    }
   ],
   "source": [
    "judge.definition()"
   ]
  },
  {
   "cell_type": "code",
   "execution_count": 59,
   "metadata": {
    "ExecuteTime": {
     "end_time": "2022-02-25T10:00:10.315766Z",
     "start_time": "2022-02-25T10:00:10.304304Z"
    }
   },
   "outputs": [
    {
     "data": {
      "text/plain": [
       "['I estimate this chicken to weigh three pounds']"
      ]
     },
     "execution_count": 59,
     "metadata": {},
     "output_type": "execute_result"
    }
   ],
   "source": [
    "wn.synset('estimate.v.01').examples()"
   ]
  },
  {
   "cell_type": "code",
   "execution_count": 60,
   "metadata": {
    "ExecuteTime": {
     "end_time": "2022-02-25T07:57:50.442433Z",
     "start_time": "2022-02-25T07:57:50.431143Z"
    }
   },
   "outputs": [
    {
     "data": {
      "text/plain": [
       "[Synset('adjudicator.n.01'), Synset('official.n.01')]"
      ]
     },
     "execution_count": 60,
     "metadata": {},
     "output_type": "execute_result"
    }
   ],
   "source": [
    "# categories to which \"judge.n.01\" belongs\n",
    "judge.hypernyms()"
   ]
  },
  {
   "cell_type": "code",
   "execution_count": 61,
   "metadata": {
    "ExecuteTime": {
     "end_time": "2022-02-25T10:00:48.120317Z",
     "start_time": "2022-02-25T10:00:48.113103Z"
    }
   },
   "outputs": [
    {
     "data": {
      "text/plain": [
       "[Synset('entity.n.01')]"
      ]
     },
     "execution_count": 61,
     "metadata": {},
     "output_type": "execute_result"
    }
   ],
   "source": [
    "# the root category of \"judge.n.01\"\n",
    "judge.root_hypernyms()"
   ]
  },
  {
   "cell_type": "code",
   "execution_count": 62,
   "metadata": {
    "ExecuteTime": {
     "end_time": "2022-02-25T10:00:53.937497Z",
     "start_time": "2022-02-25T10:00:53.928251Z"
    }
   },
   "outputs": [
    {
     "data": {
      "text/plain": [
       "[Synset('think.v.03')]"
      ]
     },
     "execution_count": 62,
     "metadata": {},
     "output_type": "execute_result"
    }
   ],
   "source": [
    "wn.synset('estimate.v.01').root_hypernyms()"
   ]
  },
  {
   "cell_type": "code",
   "execution_count": 63,
   "metadata": {
    "ExecuteTime": {
     "end_time": "2022-02-25T10:01:08.703182Z",
     "start_time": "2022-02-25T10:01:08.696863Z"
    }
   },
   "outputs": [
    {
     "data": {
      "text/plain": [
       "[Synset('alcalde.n.01'),\n",
       " Synset('chief_justice.n.01'),\n",
       " Synset('daniel.n.02'),\n",
       " Synset('doge.n.01'),\n",
       " Synset('justiciar.n.01'),\n",
       " Synset('magistrate.n.01'),\n",
       " Synset('ordinary.n.01'),\n",
       " Synset('praetor.n.01'),\n",
       " Synset('qadi.n.01'),\n",
       " Synset('recorder.n.03'),\n",
       " Synset('trial_judge.n.01'),\n",
       " Synset('trier.n.01')]"
      ]
     },
     "execution_count": 63,
     "metadata": {},
     "output_type": "execute_result"
    }
   ],
   "source": [
    "# members of the \"judge.n.01\" category\n",
    "judge.hyponyms()"
   ]
  },
  {
   "cell_type": "code",
   "execution_count": 64,
   "metadata": {
    "ExecuteTime": {
     "end_time": "2022-02-25T08:02:52.324402Z",
     "start_time": "2022-02-25T08:02:52.314403Z"
    }
   },
   "outputs": [
    {
     "data": {
      "text/plain": [
       "[Synset('jury.n.01')]"
      ]
     },
     "execution_count": 64,
     "metadata": {},
     "output_type": "execute_result"
    }
   ],
   "source": [
    "# \"holonym\" is a part of a whole\n",
    "juror = wn.synset('juror.n.01')\n",
    "juror.member_holonyms()"
   ]
  },
  {
   "cell_type": "code",
   "execution_count": 65,
   "metadata": {
    "ExecuteTime": {
     "end_time": "2022-02-25T08:02:52.486713Z",
     "start_time": "2022-02-25T08:02:52.476865Z"
    }
   },
   "outputs": [
    {
     "data": {
      "text/plain": [
       "[Synset('person.n.01')]"
      ]
     },
     "execution_count": 65,
     "metadata": {},
     "output_type": "execute_result"
    }
   ],
   "source": [
    "# can find \"lowest common hypernyms\":\n",
    "judge.lowest_common_hypernyms(juror)"
   ]
  },
  {
   "cell_type": "code",
   "execution_count": 66,
   "metadata": {
    "ExecuteTime": {
     "end_time": "2022-02-25T10:01:45.760265Z",
     "start_time": "2022-02-25T10:01:45.748916Z"
    }
   },
   "outputs": [
    {
     "data": {
      "text/plain": [
       "[Lemma('judge.n.01.judge'),\n",
       " Lemma('judge.n.01.justice'),\n",
       " Lemma('judge.n.01.jurist')]"
      ]
     },
     "execution_count": 66,
     "metadata": {},
     "output_type": "execute_result"
    }
   ],
   "source": [
    "# \"lemmas\" are specific senses of a specific word.\n",
    "judge.lemmas()"
   ]
  },
  {
   "cell_type": "code",
   "execution_count": 67,
   "metadata": {
    "ExecuteTime": {
     "end_time": "2022-02-25T10:01:57.383094Z",
     "start_time": "2022-02-25T10:01:57.373544Z"
    }
   },
   "outputs": [
    {
     "data": {
      "text/plain": [
       "['judge', 'justice', 'jurist']"
      ]
     },
     "execution_count": 67,
     "metadata": {},
     "output_type": "execute_result"
    }
   ],
   "source": [
    "[lemma.name() for lemma in judge.lemmas()]"
   ]
  },
  {
   "cell_type": "code",
   "execution_count": 68,
   "metadata": {
    "ExecuteTime": {
     "end_time": "2022-02-25T08:02:54.261992Z",
     "start_time": "2022-02-25T08:02:54.251066Z"
    }
   },
   "outputs": [
    {
     "data": {
      "text/plain": [
       "[Lemma('judicial.s.01.judicial'),\n",
       " Lemma('judicial.a.02.judicial'),\n",
       " Lemma('judicial.a.03.judicial'),\n",
       " Lemma('judgeship.n.01.judgeship'),\n",
       " Lemma('judge.v.05.judge'),\n",
       " Lemma('judge.v.05.adjudicate'),\n",
       " Lemma('decide.v.02.adjudicate')]"
      ]
     },
     "execution_count": 68,
     "metadata": {},
     "output_type": "execute_result"
    }
   ],
   "source": [
    "# lemmas have additional properties\n",
    "judge_lemma = judge.lemmas()[0]\n",
    "judge_lemma.derivationally_related_forms()"
   ]
  },
  {
   "cell_type": "code",
   "execution_count": 69,
   "metadata": {
    "ExecuteTime": {
     "end_time": "2022-02-25T08:02:55.555900Z",
     "start_time": "2022-02-25T08:02:55.548222Z"
    }
   },
   "outputs": [
    {
     "data": {
      "text/plain": [
       "[Lemma('bad.a.01.bad')]"
      ]
     },
     "execution_count": 69,
     "metadata": {},
     "output_type": "execute_result"
    }
   ],
   "source": [
    "good = wn.synset('good.a.01').lemmas()[0]\n",
    "good.antonyms()"
   ]
  },
  {
   "cell_type": "code",
   "execution_count": 70,
   "metadata": {
    "ExecuteTime": {
     "end_time": "2022-02-25T08:02:55.928847Z",
     "start_time": "2022-02-25T08:02:55.918782Z"
    }
   },
   "outputs": [
    {
     "data": {
      "text/plain": [
       "['Somebody judge something', 'Somebody judge PP', 'Somebody judge that CLAUSE']"
      ]
     },
     "execution_count": 70,
     "metadata": {},
     "output_type": "execute_result"
    }
   ],
   "source": [
    "# verb frames summarize the different semantic contexts that a verb can be used\n",
    "judge_verb = wn.synset('estimate.v.01').lemmas()[4]\n",
    "judge_verb.frame_strings()"
   ]
  },
  {
   "cell_type": "code",
   "execution_count": 71,
   "metadata": {
    "ExecuteTime": {
     "end_time": "2022-02-25T08:03:04.668594Z",
     "start_time": "2022-02-25T08:03:04.657402Z"
    }
   },
   "outputs": [
    {
     "data": {
      "text/plain": [
       "0.1111111111111111"
      ]
     },
     "execution_count": 71,
     "metadata": {},
     "output_type": "execute_result"
    }
   ],
   "source": [
    "# measure similarity in the dictionary between words\n",
    "judge.path_similarity(wn.synset('juror.n.01'))"
   ]
  },
  {
   "cell_type": "code",
   "execution_count": 72,
   "metadata": {
    "ExecuteTime": {
     "end_time": "2022-02-25T08:05:31.074790Z",
     "start_time": "2022-02-25T08:05:31.062152Z"
    }
   },
   "outputs": [
    {
     "data": {
      "text/plain": [
       "0.08333333333333333"
      ]
     },
     "execution_count": 72,
     "metadata": {},
     "output_type": "execute_result"
    }
   ],
   "source": [
    "judge.path_similarity(wn.synset('cat.n.01'))"
   ]
  },
  {
   "cell_type": "code",
   "execution_count": 73,
   "metadata": {
    "ExecuteTime": {
     "end_time": "2022-02-25T08:05:31.469152Z",
     "start_time": "2022-02-25T08:05:31.458493Z"
    }
   },
   "outputs": [
    {
     "data": {
      "text/plain": [
       "0.5454545454545454"
      ]
     },
     "execution_count": 73,
     "metadata": {},
     "output_type": "execute_result"
    }
   ],
   "source": [
    "# Wu-Palmer similarity.\n",
    "judge.wup_similarity(juror)"
   ]
  },
  {
   "cell_type": "code",
   "execution_count": 74,
   "metadata": {
    "ExecuteTime": {
     "end_time": "2022-02-25T08:05:31.752657Z",
     "start_time": "2022-02-25T08:05:31.741757Z"
    }
   },
   "outputs": [
    {
     "data": {
      "text/plain": [
       "0.5217391304347826"
      ]
     },
     "execution_count": 74,
     "metadata": {},
     "output_type": "execute_result"
    }
   ],
   "source": [
    "judge.wup_similarity(wn.synset('cat.n.01'))"
   ]
  },
  {
   "cell_type": "code",
   "execution_count": 75,
   "metadata": {
    "ExecuteTime": {
     "end_time": "2022-02-25T08:03:26.100296Z",
     "start_time": "2022-02-25T08:03:23.887564Z"
    }
   },
   "outputs": [
    {
     "name": "stdout",
     "output_type": "stream",
     "text": [
      "Synset('judgeship.n.01')\n",
      "Synset('judgment.n.02')\n",
      "Synset('value_judgment.n.01')\n",
      "Synset('judgment.n.03')\n",
      "Synset('confession_of_judgment.n.01')\n",
      "Synset('default_judgment.n.01')\n",
      "Synset('final_judgment.n.01')\n",
      "Synset('judgment_in_personam.n.01')\n",
      "Synset('judgment_in_rem.n.01')\n",
      "Synset('judgment_of_dismissal.n.01')\n",
      "Synset('judgment_on_the_merits.n.01')\n",
      "Synset('summary_judgment.n.01')\n",
      "Synset('judgment.n.06')\n",
      "Synset('judgment.n.04')\n",
      "Synset('prejudgment.n.01')\n",
      "Synset('judgment.n.01')\n",
      "Synset('judges.n.01')\n",
      "Synset('back_judge.n.01')\n",
      "Synset('field_judge.n.01')\n",
      "Synset('judge.n.01')\n",
      "Synset('judge_advocate.n.02')\n",
      "Synset('judge_advocate.n.01')\n",
      "Synset('judge_advocate_general.n.01')\n",
      "Synset('line_judge.n.01')\n",
      "Synset('side_judge.n.01')\n",
      "Synset('trial_judge.n.01')\n",
      "Synset('judgment_lien.n.01')\n",
      "Synset('judgment_day.n.01')\n"
     ]
    }
   ],
   "source": [
    "# Can iterate over all synsets; e.g., all nouns:\n",
    "for synset in list(wn.all_synsets('n')):\n",
    "    if 'judg' in str(synset):\n",
    "        print(synset)"
   ]
  },
  {
   "cell_type": "markdown",
   "metadata": {},
   "source": [
    "**Exercise**. Use wordnet to expand the set of words in the Baker-Bloom-Davis dictionary and re-compute policy uncertainty scores by year. "
   ]
  },
  {
   "cell_type": "code",
   "execution_count": null,
   "metadata": {},
   "outputs": [],
   "source": []
  }
 ],
 "metadata": {
  "kernelspec": {
   "display_name": "Python 3 (ipykernel)",
   "language": "python",
   "name": "python3"
  },
  "language_info": {
   "codemirror_mode": {
    "name": "ipython",
    "version": 3
   },
   "file_extension": ".py",
   "mimetype": "text/x-python",
   "name": "python",
   "nbconvert_exporter": "python",
   "pygments_lexer": "ipython3",
   "version": "3.8.18"
  },
  "toc": {
   "base_numbering": "1",
   "nav_menu": {},
   "number_sections": true,
   "sideBar": true,
   "skip_h1_title": false,
   "title_cell": "Week 01. Text Data Essentials",
   "title_sidebar": "Contents",
   "toc_cell": true,
   "toc_position": {
    "height": "calc(100% - 180px)",
    "left": "10px",
    "top": "150px",
    "width": "165px"
   },
   "toc_section_display": true,
   "toc_window_display": true
  },
  "toc-autonumbering": false,
  "toc-showcode": false,
  "toc-showmarkdowntxt": false,
  "toc-showtags": false
 },
 "nbformat": 4,
 "nbformat_minor": 4
}
