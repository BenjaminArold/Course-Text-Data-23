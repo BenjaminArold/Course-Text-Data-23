{
 "cells": [
  {
   "cell_type": "markdown",
   "metadata": {},
   "source": [
    "# Lecture 8: Parsing"
   ]
  },
  {
   "cell_type": "markdown",
   "metadata": {},
   "source": [
    "## Setup"
   ]
  },
  {
   "cell_type": "code",
   "execution_count": 1,
   "metadata": {},
   "outputs": [],
   "source": [
    "# !pip install benepar\n",
    "# !pip install svgling"
   ]
  },
  {
   "cell_type": "code",
   "execution_count": 2,
   "metadata": {
    "ExecuteTime": {
     "end_time": "2022-04-28T11:35:14.398728Z",
     "start_time": "2022-04-28T11:35:13.175805Z"
    }
   },
   "outputs": [
    {
     "name": "stderr",
     "output_type": "stream",
     "text": [
      "2023-10-25 19:39:36.038271: I tensorflow/core/platform/cpu_feature_guard.cc:193] This TensorFlow binary is optimized with oneAPI Deep Neural Network Library (oneDNN) to use the following CPU instructions in performance-critical operations:  AVX2 FMA\n",
      "To enable them in other operations, rebuild TensorFlow with the appropriate compiler flags.\n"
     ]
    }
   ],
   "source": [
    "#setup\n",
    "#%matplotlib notebook\n",
    "import pandas as pd\n",
    "import spacy\n",
    "from spacy import displacy\n",
    "import benepar\n",
    "import nltk\n",
    "\n",
    "from collections import Counter\n",
    "\n",
    "\n",
    "df = pd.read_csv('death-penalty-cases.csv')"
   ]
  },
  {
   "cell_type": "code",
   "execution_count": 3,
   "metadata": {
    "ExecuteTime": {
     "end_time": "2022-04-28T11:23:46.717404Z",
     "start_time": "2022-04-28T11:23:46.706012Z"
    }
   },
   "outputs": [
    {
     "data": {
      "text/html": [
       "<div>\n",
       "<style scoped>\n",
       "    .dataframe tbody tr th:only-of-type {\n",
       "        vertical-align: middle;\n",
       "    }\n",
       "\n",
       "    .dataframe tbody tr th {\n",
       "        vertical-align: top;\n",
       "    }\n",
       "\n",
       "    .dataframe thead th {\n",
       "        text-align: right;\n",
       "    }\n",
       "</style>\n",
       "<table border=\"1\" class=\"dataframe\">\n",
       "  <thead>\n",
       "    <tr style=\"text-align: right;\">\n",
       "      <th></th>\n",
       "      <th>court_id</th>\n",
       "      <th>author_id</th>\n",
       "      <th>state</th>\n",
       "      <th>year</th>\n",
       "      <th>dateFiled</th>\n",
       "      <th>citeCount</th>\n",
       "      <th>snippet</th>\n",
       "    </tr>\n",
       "  </thead>\n",
       "  <tbody>\n",
       "    <tr>\n",
       "      <th>0</th>\n",
       "      <td>nj</td>\n",
       "      <td>NaN</td>\n",
       "      <td>NJ</td>\n",
       "      <td>1965</td>\n",
       "      <td>1965-09-14T00:00:00Z</td>\n",
       "      <td>8</td>\n",
       "      <td>N.J.   ( )\\n  A. d  \\nIN RE WAIVER OF DEATH PE...</td>\n",
       "    </tr>\n",
       "    <tr>\n",
       "      <th>1</th>\n",
       "      <td>fla</td>\n",
       "      <td>4019.0</td>\n",
       "      <td>FL</td>\n",
       "      <td>1973</td>\n",
       "      <td>1973-07-26T00:00:00Z</td>\n",
       "      <td>552</td>\n",
       "      <td>whether the death penalty is, per se, unconsti...</td>\n",
       "    </tr>\n",
       "    <tr>\n",
       "      <th>2</th>\n",
       "      <td>texcrimapp</td>\n",
       "      <td>5765.0</td>\n",
       "      <td>TX</td>\n",
       "      <td>1975</td>\n",
       "      <td>1975-04-16T00:00:00Z</td>\n",
       "      <td>143</td>\n",
       "      <td># ;s contention that the assessment of the dea...</td>\n",
       "    </tr>\n",
       "    <tr>\n",
       "      <th>3</th>\n",
       "      <td>nm</td>\n",
       "      <td>NaN</td>\n",
       "      <td>NM</td>\n",
       "      <td>2009</td>\n",
       "      <td>2009-11-30T00:00:00Z</td>\n",
       "      <td>0</td>\n",
       "      <td>. d   ( )\\n -NMSC- \\nIN THE MATTER OF DEATH PE...</td>\n",
       "    </tr>\n",
       "    <tr>\n",
       "      <th>4</th>\n",
       "      <td>texcrimapp</td>\n",
       "      <td>5758.0</td>\n",
       "      <td>TX</td>\n",
       "      <td>1944</td>\n",
       "      <td>1944-12-20T00:00:00Z</td>\n",
       "      <td>56</td>\n",
       "      <td>assume the district attorney orally waived the...</td>\n",
       "    </tr>\n",
       "    <tr>\n",
       "      <th>...</th>\n",
       "      <td>...</td>\n",
       "      <td>...</td>\n",
       "      <td>...</td>\n",
       "      <td>...</td>\n",
       "      <td>...</td>\n",
       "      <td>...</td>\n",
       "      <td>...</td>\n",
       "    </tr>\n",
       "    <tr>\n",
       "      <th>32562</th>\n",
       "      <td>ohioctapp</td>\n",
       "      <td>8055.0</td>\n",
       "      <td>OH</td>\n",
       "      <td>2017</td>\n",
       "      <td>2017-07-20T00:00:00Z</td>\n",
       "      <td>0</td>\n",
       "      <td>of two counts of aggravated murder with deat...</td>\n",
       "    </tr>\n",
       "    <tr>\n",
       "      <th>32563</th>\n",
       "      <td>cal</td>\n",
       "      <td>NaN</td>\n",
       "      <td>CA</td>\n",
       "      <td>2017</td>\n",
       "      <td>2017-07-20T00:00:00Z</td>\n",
       "      <td>0</td>\n",
       "      <td>his general views about the death penalty as ...</td>\n",
       "    </tr>\n",
       "    <tr>\n",
       "      <th>32564</th>\n",
       "      <td>neb</td>\n",
       "      <td>NaN</td>\n",
       "      <td>NE</td>\n",
       "      <td>2017</td>\n",
       "      <td>2017-07-21T00:00:00Z</td>\n",
       "      <td>0</td>\n",
       "      <td>been subject to the death\\npenalty, because Ne...</td>\n",
       "    </tr>\n",
       "    <tr>\n",
       "      <th>32565</th>\n",
       "      <td>ohio</td>\n",
       "      <td>5374.0</td>\n",
       "      <td>OH</td>\n",
       "      <td>2017</td>\n",
       "      <td>2017-07-25T00:00:00Z</td>\n",
       "      <td>0</td>\n",
       "      <td>that Indiana law permits imposition of the de...</td>\n",
       "    </tr>\n",
       "    <tr>\n",
       "      <th>32566</th>\n",
       "      <td>tenncrimapp</td>\n",
       "      <td>8291.0</td>\n",
       "      <td>TN</td>\n",
       "      <td>2017</td>\n",
       "      <td>2017-07-20T00:00:00Z</td>\n",
       "      <td>0</td>\n",
       "      <td>original guilty\\nplea for which he received th...</td>\n",
       "    </tr>\n",
       "  </tbody>\n",
       "</table>\n",
       "<p>32567 rows × 7 columns</p>\n",
       "</div>"
      ],
      "text/plain": [
       "          court_id  author_id state  year             dateFiled  citeCount  \\\n",
       "0               nj        NaN    NJ  1965  1965-09-14T00:00:00Z          8   \n",
       "1              fla     4019.0    FL  1973  1973-07-26T00:00:00Z        552   \n",
       "2       texcrimapp     5765.0    TX  1975  1975-04-16T00:00:00Z        143   \n",
       "3               nm        NaN    NM  2009  2009-11-30T00:00:00Z          0   \n",
       "4       texcrimapp     5758.0    TX  1944  1944-12-20T00:00:00Z         56   \n",
       "...            ...        ...   ...   ...                   ...        ...   \n",
       "32562    ohioctapp     8055.0    OH  2017  2017-07-20T00:00:00Z          0   \n",
       "32563          cal        NaN    CA  2017  2017-07-20T00:00:00Z          0   \n",
       "32564          neb        NaN    NE  2017  2017-07-21T00:00:00Z          0   \n",
       "32565         ohio     5374.0    OH  2017  2017-07-25T00:00:00Z          0   \n",
       "32566  tenncrimapp     8291.0    TN  2017  2017-07-20T00:00:00Z          0   \n",
       "\n",
       "                                                 snippet  \n",
       "0      N.J.   ( )\\n  A. d  \\nIN RE WAIVER OF DEATH PE...  \n",
       "1      whether the death penalty is, per se, unconsti...  \n",
       "2      # ;s contention that the assessment of the dea...  \n",
       "3      . d   ( )\\n -NMSC- \\nIN THE MATTER OF DEATH PE...  \n",
       "4      assume the district attorney orally waived the...  \n",
       "...                                                  ...  \n",
       "32562    of two counts of aggravated murder with deat...  \n",
       "32563   his general views about the death penalty as ...  \n",
       "32564  been subject to the death\\npenalty, because Ne...  \n",
       "32565   that Indiana law permits imposition of the de...  \n",
       "32566  original guilty\\nplea for which he received th...  \n",
       "\n",
       "[32567 rows x 7 columns]"
      ]
     },
     "execution_count": 3,
     "metadata": {},
     "output_type": "execute_result"
    }
   ],
   "source": [
    "df"
   ]
  },
  {
   "cell_type": "markdown",
   "metadata": {},
   "source": [
    "## Dependency Parsing with SpaCy"
   ]
  },
  {
   "cell_type": "markdown",
   "metadata": {},
   "source": [
    "Let's first look at one example:"
   ]
  },
  {
   "cell_type": "code",
   "execution_count": 4,
   "metadata": {
    "ExecuteTime": {
     "end_time": "2022-04-28T11:26:09.842198Z",
     "start_time": "2022-04-28T11:26:09.427996Z"
    }
   },
   "outputs": [
    {
     "name": "stderr",
     "output_type": "stream",
     "text": [
      "/Users/abombelli/anaconda3/envs/venv_tad/lib/python3.8/site-packages/tqdm/auto.py:21: TqdmWarning: IProgress not found. Please update jupyter and ipywidgets. See https://ipywidgets.readthedocs.io/en/stable/user_install.html\n",
      "  from .autonotebook import tqdm as notebook_tqdm\n"
     ]
    }
   ],
   "source": [
    "text = 'Science cannot solve the ultimate mystery of nature.'\n",
    "nlp = spacy.load('en_core_web_sm')\n",
    "doc = nlp(text)"
   ]
  },
  {
   "cell_type": "code",
   "execution_count": 5,
   "metadata": {
    "ExecuteTime": {
     "end_time": "2022-04-28T11:26:10.878513Z",
     "start_time": "2022-04-28T11:26:10.852343Z"
    }
   },
   "outputs": [
    {
     "data": {
      "text/html": [
       "<span class=\"tex2jax_ignore\"><svg xmlns=\"http://www.w3.org/2000/svg\" xmlns:xlink=\"http://www.w3.org/1999/xlink\" xml:lang=\"en\" id=\"db1bd07ae4434e97a53e49718df9d8e5-0\" class=\"displacy\" width=\"1625\" height=\"399.5\" direction=\"ltr\" style=\"max-width: none; height: 399.5px; color: #000000; background: #ffffff; font-family: Arial; direction: ltr\">\n",
       "<text class=\"displacy-token\" fill=\"currentColor\" text-anchor=\"middle\" y=\"309.5\">\n",
       "    <tspan class=\"displacy-word\" fill=\"currentColor\" x=\"50\">Science</tspan>\n",
       "    <tspan class=\"displacy-tag\" dy=\"2em\" fill=\"currentColor\" x=\"50\">NOUN</tspan>\n",
       "</text>\n",
       "\n",
       "<text class=\"displacy-token\" fill=\"currentColor\" text-anchor=\"middle\" y=\"309.5\">\n",
       "    <tspan class=\"displacy-word\" fill=\"currentColor\" x=\"225\">can</tspan>\n",
       "    <tspan class=\"displacy-tag\" dy=\"2em\" fill=\"currentColor\" x=\"225\">AUX</tspan>\n",
       "</text>\n",
       "\n",
       "<text class=\"displacy-token\" fill=\"currentColor\" text-anchor=\"middle\" y=\"309.5\">\n",
       "    <tspan class=\"displacy-word\" fill=\"currentColor\" x=\"400\">not</tspan>\n",
       "    <tspan class=\"displacy-tag\" dy=\"2em\" fill=\"currentColor\" x=\"400\">PART</tspan>\n",
       "</text>\n",
       "\n",
       "<text class=\"displacy-token\" fill=\"currentColor\" text-anchor=\"middle\" y=\"309.5\">\n",
       "    <tspan class=\"displacy-word\" fill=\"currentColor\" x=\"575\">solve</tspan>\n",
       "    <tspan class=\"displacy-tag\" dy=\"2em\" fill=\"currentColor\" x=\"575\">VERB</tspan>\n",
       "</text>\n",
       "\n",
       "<text class=\"displacy-token\" fill=\"currentColor\" text-anchor=\"middle\" y=\"309.5\">\n",
       "    <tspan class=\"displacy-word\" fill=\"currentColor\" x=\"750\">the</tspan>\n",
       "    <tspan class=\"displacy-tag\" dy=\"2em\" fill=\"currentColor\" x=\"750\">DET</tspan>\n",
       "</text>\n",
       "\n",
       "<text class=\"displacy-token\" fill=\"currentColor\" text-anchor=\"middle\" y=\"309.5\">\n",
       "    <tspan class=\"displacy-word\" fill=\"currentColor\" x=\"925\">ultimate</tspan>\n",
       "    <tspan class=\"displacy-tag\" dy=\"2em\" fill=\"currentColor\" x=\"925\">ADJ</tspan>\n",
       "</text>\n",
       "\n",
       "<text class=\"displacy-token\" fill=\"currentColor\" text-anchor=\"middle\" y=\"309.5\">\n",
       "    <tspan class=\"displacy-word\" fill=\"currentColor\" x=\"1100\">mystery</tspan>\n",
       "    <tspan class=\"displacy-tag\" dy=\"2em\" fill=\"currentColor\" x=\"1100\">NOUN</tspan>\n",
       "</text>\n",
       "\n",
       "<text class=\"displacy-token\" fill=\"currentColor\" text-anchor=\"middle\" y=\"309.5\">\n",
       "    <tspan class=\"displacy-word\" fill=\"currentColor\" x=\"1275\">of</tspan>\n",
       "    <tspan class=\"displacy-tag\" dy=\"2em\" fill=\"currentColor\" x=\"1275\">ADP</tspan>\n",
       "</text>\n",
       "\n",
       "<text class=\"displacy-token\" fill=\"currentColor\" text-anchor=\"middle\" y=\"309.5\">\n",
       "    <tspan class=\"displacy-word\" fill=\"currentColor\" x=\"1450\">nature.</tspan>\n",
       "    <tspan class=\"displacy-tag\" dy=\"2em\" fill=\"currentColor\" x=\"1450\">NOUN</tspan>\n",
       "</text>\n",
       "\n",
       "<g class=\"displacy-arrow\">\n",
       "    <path class=\"displacy-arc\" id=\"arrow-db1bd07ae4434e97a53e49718df9d8e5-0-0\" stroke-width=\"2px\" d=\"M70,264.5 C70,2.0 575.0,2.0 575.0,264.5\" fill=\"none\" stroke=\"currentColor\"/>\n",
       "    <text dy=\"1.25em\" style=\"font-size: 0.8em; letter-spacing: 1px\">\n",
       "        <textPath xlink:href=\"#arrow-db1bd07ae4434e97a53e49718df9d8e5-0-0\" class=\"displacy-label\" startOffset=\"50%\" side=\"left\" fill=\"currentColor\" text-anchor=\"middle\">nsubj</textPath>\n",
       "    </text>\n",
       "    <path class=\"displacy-arrowhead\" d=\"M70,266.5 L62,254.5 78,254.5\" fill=\"currentColor\"/>\n",
       "</g>\n",
       "\n",
       "<g class=\"displacy-arrow\">\n",
       "    <path class=\"displacy-arc\" id=\"arrow-db1bd07ae4434e97a53e49718df9d8e5-0-1\" stroke-width=\"2px\" d=\"M245,264.5 C245,89.5 570.0,89.5 570.0,264.5\" fill=\"none\" stroke=\"currentColor\"/>\n",
       "    <text dy=\"1.25em\" style=\"font-size: 0.8em; letter-spacing: 1px\">\n",
       "        <textPath xlink:href=\"#arrow-db1bd07ae4434e97a53e49718df9d8e5-0-1\" class=\"displacy-label\" startOffset=\"50%\" side=\"left\" fill=\"currentColor\" text-anchor=\"middle\">aux</textPath>\n",
       "    </text>\n",
       "    <path class=\"displacy-arrowhead\" d=\"M245,266.5 L237,254.5 253,254.5\" fill=\"currentColor\"/>\n",
       "</g>\n",
       "\n",
       "<g class=\"displacy-arrow\">\n",
       "    <path class=\"displacy-arc\" id=\"arrow-db1bd07ae4434e97a53e49718df9d8e5-0-2\" stroke-width=\"2px\" d=\"M420,264.5 C420,177.0 565.0,177.0 565.0,264.5\" fill=\"none\" stroke=\"currentColor\"/>\n",
       "    <text dy=\"1.25em\" style=\"font-size: 0.8em; letter-spacing: 1px\">\n",
       "        <textPath xlink:href=\"#arrow-db1bd07ae4434e97a53e49718df9d8e5-0-2\" class=\"displacy-label\" startOffset=\"50%\" side=\"left\" fill=\"currentColor\" text-anchor=\"middle\">neg</textPath>\n",
       "    </text>\n",
       "    <path class=\"displacy-arrowhead\" d=\"M420,266.5 L412,254.5 428,254.5\" fill=\"currentColor\"/>\n",
       "</g>\n",
       "\n",
       "<g class=\"displacy-arrow\">\n",
       "    <path class=\"displacy-arc\" id=\"arrow-db1bd07ae4434e97a53e49718df9d8e5-0-3\" stroke-width=\"2px\" d=\"M770,264.5 C770,89.5 1095.0,89.5 1095.0,264.5\" fill=\"none\" stroke=\"currentColor\"/>\n",
       "    <text dy=\"1.25em\" style=\"font-size: 0.8em; letter-spacing: 1px\">\n",
       "        <textPath xlink:href=\"#arrow-db1bd07ae4434e97a53e49718df9d8e5-0-3\" class=\"displacy-label\" startOffset=\"50%\" side=\"left\" fill=\"currentColor\" text-anchor=\"middle\">det</textPath>\n",
       "    </text>\n",
       "    <path class=\"displacy-arrowhead\" d=\"M770,266.5 L762,254.5 778,254.5\" fill=\"currentColor\"/>\n",
       "</g>\n",
       "\n",
       "<g class=\"displacy-arrow\">\n",
       "    <path class=\"displacy-arc\" id=\"arrow-db1bd07ae4434e97a53e49718df9d8e5-0-4\" stroke-width=\"2px\" d=\"M945,264.5 C945,177.0 1090.0,177.0 1090.0,264.5\" fill=\"none\" stroke=\"currentColor\"/>\n",
       "    <text dy=\"1.25em\" style=\"font-size: 0.8em; letter-spacing: 1px\">\n",
       "        <textPath xlink:href=\"#arrow-db1bd07ae4434e97a53e49718df9d8e5-0-4\" class=\"displacy-label\" startOffset=\"50%\" side=\"left\" fill=\"currentColor\" text-anchor=\"middle\">amod</textPath>\n",
       "    </text>\n",
       "    <path class=\"displacy-arrowhead\" d=\"M945,266.5 L937,254.5 953,254.5\" fill=\"currentColor\"/>\n",
       "</g>\n",
       "\n",
       "<g class=\"displacy-arrow\">\n",
       "    <path class=\"displacy-arc\" id=\"arrow-db1bd07ae4434e97a53e49718df9d8e5-0-5\" stroke-width=\"2px\" d=\"M595,264.5 C595,2.0 1100.0,2.0 1100.0,264.5\" fill=\"none\" stroke=\"currentColor\"/>\n",
       "    <text dy=\"1.25em\" style=\"font-size: 0.8em; letter-spacing: 1px\">\n",
       "        <textPath xlink:href=\"#arrow-db1bd07ae4434e97a53e49718df9d8e5-0-5\" class=\"displacy-label\" startOffset=\"50%\" side=\"left\" fill=\"currentColor\" text-anchor=\"middle\">dobj</textPath>\n",
       "    </text>\n",
       "    <path class=\"displacy-arrowhead\" d=\"M1100.0,266.5 L1108.0,254.5 1092.0,254.5\" fill=\"currentColor\"/>\n",
       "</g>\n",
       "\n",
       "<g class=\"displacy-arrow\">\n",
       "    <path class=\"displacy-arc\" id=\"arrow-db1bd07ae4434e97a53e49718df9d8e5-0-6\" stroke-width=\"2px\" d=\"M1120,264.5 C1120,177.0 1265.0,177.0 1265.0,264.5\" fill=\"none\" stroke=\"currentColor\"/>\n",
       "    <text dy=\"1.25em\" style=\"font-size: 0.8em; letter-spacing: 1px\">\n",
       "        <textPath xlink:href=\"#arrow-db1bd07ae4434e97a53e49718df9d8e5-0-6\" class=\"displacy-label\" startOffset=\"50%\" side=\"left\" fill=\"currentColor\" text-anchor=\"middle\">prep</textPath>\n",
       "    </text>\n",
       "    <path class=\"displacy-arrowhead\" d=\"M1265.0,266.5 L1273.0,254.5 1257.0,254.5\" fill=\"currentColor\"/>\n",
       "</g>\n",
       "\n",
       "<g class=\"displacy-arrow\">\n",
       "    <path class=\"displacy-arc\" id=\"arrow-db1bd07ae4434e97a53e49718df9d8e5-0-7\" stroke-width=\"2px\" d=\"M1295,264.5 C1295,177.0 1440.0,177.0 1440.0,264.5\" fill=\"none\" stroke=\"currentColor\"/>\n",
       "    <text dy=\"1.25em\" style=\"font-size: 0.8em; letter-spacing: 1px\">\n",
       "        <textPath xlink:href=\"#arrow-db1bd07ae4434e97a53e49718df9d8e5-0-7\" class=\"displacy-label\" startOffset=\"50%\" side=\"left\" fill=\"currentColor\" text-anchor=\"middle\">pobj</textPath>\n",
       "    </text>\n",
       "    <path class=\"displacy-arrowhead\" d=\"M1440.0,266.5 L1448.0,254.5 1432.0,254.5\" fill=\"currentColor\"/>\n",
       "</g>\n",
       "</svg></span>"
      ],
      "text/plain": [
       "<IPython.core.display.HTML object>"
      ]
     },
     "metadata": {},
     "output_type": "display_data"
    }
   ],
   "source": [
    "displacy.render(doc, style=\"dep\")"
   ]
  },
  {
   "cell_type": "code",
   "execution_count": 6,
   "metadata": {
    "ExecuteTime": {
     "end_time": "2022-04-28T11:26:12.225503Z",
     "start_time": "2022-04-28T11:26:12.204363Z"
    }
   },
   "outputs": [
    {
     "name": "stdout",
     "output_type": "stream",
     "text": [
      "sentence: Science cannot solve the ultimate mystery of nature.\n",
      "root: solve\n",
      "[(Science, 'nsubj'), (can, 'aux'), (not, 'neg'), (mystery, 'dobj'), (., 'punct')]\n",
      "\n"
     ]
    }
   ],
   "source": [
    "for sent in doc.sents:\n",
    "    print(\"sentence:\", sent)\n",
    "    print(\"root:\", sent.root)\n",
    "    print([(w, w.dep_) for w in sent.root.children])\n",
    "    print()"
   ]
  },
  {
   "cell_type": "code",
   "execution_count": 7,
   "metadata": {
    "ExecuteTime": {
     "end_time": "2022-04-28T11:26:12.569391Z",
     "start_time": "2022-04-28T11:26:12.561398Z"
    }
   },
   "outputs": [
    {
     "name": "stdout",
     "output_type": "stream",
     "text": [
      "Science cannot solve the ultimate mystery of nature.\n",
      "solve\n",
      "[Science, can, not, mystery, .]\n",
      "[Science, can, not]\n",
      "[mystery, .]\n",
      "Science\n",
      "nsubj\n",
      "solve\n"
     ]
    }
   ],
   "source": [
    "# current sentence\n",
    "print(sent)\n",
    "print(sent.root)\n",
    "print(list(sent.root.children))\n",
    "# Left children\n",
    "print(list(sent.root.lefts))\n",
    "# Right children\n",
    "print(list(sent.root.rights))\n",
    "# first token\n",
    "print(sent[0])\n",
    "# first token dependency label, cc=conjunction\n",
    "print(sent[0].dep_)\n",
    "print(sent[0].head)"
   ]
  },
  {
   "cell_type": "markdown",
   "metadata": {},
   "source": [
    "# Constituency Parsing with SpaCy"
   ]
  },
  {
   "cell_type": "code",
   "execution_count": 8,
   "metadata": {
    "ExecuteTime": {
     "end_time": "2022-04-28T11:35:38.703128Z",
     "start_time": "2022-04-28T11:35:38.327678Z"
    }
   },
   "outputs": [
    {
     "name": "stderr",
     "output_type": "stream",
     "text": [
      "[nltk_data] Downloading package benepar_en3 to\n",
      "[nltk_data]     /Users/abombelli/nltk_data...\n",
      "[nltk_data]   Package benepar_en3 is already up-to-date!\n",
      "You're using a T5TokenizerFast tokenizer. Please note that with a fast tokenizer, using the `__call__` method is faster than using a method to encode the text followed by a call to the `pad` method to get a padded encoding.\n"
     ]
    },
    {
     "name": "stdout",
     "output_type": "stream",
     "text": [
      "(S (NP (NN Science)) (VP (MD can) (RB not) (VP (VB solve) (NP (NP (DT the) (JJ ultimate) (NN mystery)) (PP (IN of) (NP (NN nature)))))) (. .))\n",
      "('S',)\n",
      "Science\n"
     ]
    },
    {
     "name": "stderr",
     "output_type": "stream",
     "text": [
      "/Users/abombelli/anaconda3/envs/venv_tad/lib/python3.8/site-packages/torch/distributions/distribution.py:51: UserWarning: <class 'torch_struct.distributions.TreeCRF'> does not define `arg_constraints`. Please set `arg_constraints = {}` or initialize the distribution with `validate_args=False` to turn off validation.\n",
      "  warnings.warn(f'{self.__class__} does not define `arg_constraints`. ' +\n"
     ]
    }
   ],
   "source": [
    "benepar.download('benepar_en3')\n",
    "nlp = spacy.load('en_core_web_sm')\n",
    "nlp.add_pipe('benepar', config={'model': 'benepar_en3'})\n",
    "doc = nlp('Science cannot solve the ultimate mystery of nature.')\n",
    "sent = list(doc.sents)[0]\n",
    "print(sent._.parse_string)\n",
    "print(sent._.labels)\n",
    "print(list(sent._.children)[0])\n",
    "#nltk.Tree.fromstring(sent._.parse_string)"
   ]
  },
  {
   "cell_type": "markdown",
   "metadata": {},
   "source": [
    "# Application\n",
    "## Unsupervised Discovery of Gendered Language through Latent-Variable Modeling\n",
    "\n",
    "[Hoyle et al. (2019)](https://www.aclweb.org/anthology/P19-1167/) study the language use of gendered nouns and proceed to train a generative latent-variable model that jointly represents adjective (or verb) choice, with its sentiment given the (natural) gender of a noun. To this extent, they extract noun–adjectives pairs, NSUBJ–verb pairs and DOBJ–verb pairs. \n",
    "\n",
    "In the following, we show how to extract NSUBJ-verb pairs from text."
   ]
  },
  {
   "cell_type": "code",
   "execution_count": 9,
   "metadata": {
    "ExecuteTime": {
     "end_time": "2022-04-28T11:26:20.966653Z",
     "start_time": "2022-04-28T11:26:20.942969Z"
    }
   },
   "outputs": [
    {
     "data": {
      "text/html": [
       "<div>\n",
       "<style scoped>\n",
       "    .dataframe tbody tr th:only-of-type {\n",
       "        vertical-align: middle;\n",
       "    }\n",
       "\n",
       "    .dataframe tbody tr th {\n",
       "        vertical-align: top;\n",
       "    }\n",
       "\n",
       "    .dataframe thead th {\n",
       "        text-align: right;\n",
       "    }\n",
       "</style>\n",
       "<table border=\"1\" class=\"dataframe\">\n",
       "  <thead>\n",
       "    <tr style=\"text-align: right;\">\n",
       "      <th></th>\n",
       "      <th>court_id</th>\n",
       "      <th>author_id</th>\n",
       "      <th>state</th>\n",
       "      <th>year</th>\n",
       "      <th>dateFiled</th>\n",
       "      <th>citeCount</th>\n",
       "      <th>snippet</th>\n",
       "    </tr>\n",
       "  </thead>\n",
       "  <tbody>\n",
       "    <tr>\n",
       "      <th>0</th>\n",
       "      <td>nj</td>\n",
       "      <td>NaN</td>\n",
       "      <td>NJ</td>\n",
       "      <td>1965</td>\n",
       "      <td>1965-09-14T00:00:00Z</td>\n",
       "      <td>8</td>\n",
       "      <td>N.J.   ( )\\n  A. d  \\nIN RE WAIVER OF DEATH PE...</td>\n",
       "    </tr>\n",
       "    <tr>\n",
       "      <th>1</th>\n",
       "      <td>fla</td>\n",
       "      <td>4019.0</td>\n",
       "      <td>FL</td>\n",
       "      <td>1973</td>\n",
       "      <td>1973-07-26T00:00:00Z</td>\n",
       "      <td>552</td>\n",
       "      <td>whether the death penalty is, per se, unconsti...</td>\n",
       "    </tr>\n",
       "    <tr>\n",
       "      <th>2</th>\n",
       "      <td>texcrimapp</td>\n",
       "      <td>5765.0</td>\n",
       "      <td>TX</td>\n",
       "      <td>1975</td>\n",
       "      <td>1975-04-16T00:00:00Z</td>\n",
       "      <td>143</td>\n",
       "      <td># ;s contention that the assessment of the dea...</td>\n",
       "    </tr>\n",
       "    <tr>\n",
       "      <th>3</th>\n",
       "      <td>nm</td>\n",
       "      <td>NaN</td>\n",
       "      <td>NM</td>\n",
       "      <td>2009</td>\n",
       "      <td>2009-11-30T00:00:00Z</td>\n",
       "      <td>0</td>\n",
       "      <td>. d   ( )\\n -NMSC- \\nIN THE MATTER OF DEATH PE...</td>\n",
       "    </tr>\n",
       "    <tr>\n",
       "      <th>4</th>\n",
       "      <td>texcrimapp</td>\n",
       "      <td>5758.0</td>\n",
       "      <td>TX</td>\n",
       "      <td>1944</td>\n",
       "      <td>1944-12-20T00:00:00Z</td>\n",
       "      <td>56</td>\n",
       "      <td>assume the district attorney orally waived the...</td>\n",
       "    </tr>\n",
       "    <tr>\n",
       "      <th>...</th>\n",
       "      <td>...</td>\n",
       "      <td>...</td>\n",
       "      <td>...</td>\n",
       "      <td>...</td>\n",
       "      <td>...</td>\n",
       "      <td>...</td>\n",
       "      <td>...</td>\n",
       "    </tr>\n",
       "    <tr>\n",
       "      <th>32562</th>\n",
       "      <td>ohioctapp</td>\n",
       "      <td>8055.0</td>\n",
       "      <td>OH</td>\n",
       "      <td>2017</td>\n",
       "      <td>2017-07-20T00:00:00Z</td>\n",
       "      <td>0</td>\n",
       "      <td>of two counts of aggravated murder with deat...</td>\n",
       "    </tr>\n",
       "    <tr>\n",
       "      <th>32563</th>\n",
       "      <td>cal</td>\n",
       "      <td>NaN</td>\n",
       "      <td>CA</td>\n",
       "      <td>2017</td>\n",
       "      <td>2017-07-20T00:00:00Z</td>\n",
       "      <td>0</td>\n",
       "      <td>his general views about the death penalty as ...</td>\n",
       "    </tr>\n",
       "    <tr>\n",
       "      <th>32564</th>\n",
       "      <td>neb</td>\n",
       "      <td>NaN</td>\n",
       "      <td>NE</td>\n",
       "      <td>2017</td>\n",
       "      <td>2017-07-21T00:00:00Z</td>\n",
       "      <td>0</td>\n",
       "      <td>been subject to the death\\npenalty, because Ne...</td>\n",
       "    </tr>\n",
       "    <tr>\n",
       "      <th>32565</th>\n",
       "      <td>ohio</td>\n",
       "      <td>5374.0</td>\n",
       "      <td>OH</td>\n",
       "      <td>2017</td>\n",
       "      <td>2017-07-25T00:00:00Z</td>\n",
       "      <td>0</td>\n",
       "      <td>that Indiana law permits imposition of the de...</td>\n",
       "    </tr>\n",
       "    <tr>\n",
       "      <th>32566</th>\n",
       "      <td>tenncrimapp</td>\n",
       "      <td>8291.0</td>\n",
       "      <td>TN</td>\n",
       "      <td>2017</td>\n",
       "      <td>2017-07-20T00:00:00Z</td>\n",
       "      <td>0</td>\n",
       "      <td>original guilty\\nplea for which he received th...</td>\n",
       "    </tr>\n",
       "  </tbody>\n",
       "</table>\n",
       "<p>32567 rows × 7 columns</p>\n",
       "</div>"
      ],
      "text/plain": [
       "          court_id  author_id state  year             dateFiled  citeCount  \\\n",
       "0               nj        NaN    NJ  1965  1965-09-14T00:00:00Z          8   \n",
       "1              fla     4019.0    FL  1973  1973-07-26T00:00:00Z        552   \n",
       "2       texcrimapp     5765.0    TX  1975  1975-04-16T00:00:00Z        143   \n",
       "3               nm        NaN    NM  2009  2009-11-30T00:00:00Z          0   \n",
       "4       texcrimapp     5758.0    TX  1944  1944-12-20T00:00:00Z         56   \n",
       "...            ...        ...   ...   ...                   ...        ...   \n",
       "32562    ohioctapp     8055.0    OH  2017  2017-07-20T00:00:00Z          0   \n",
       "32563          cal        NaN    CA  2017  2017-07-20T00:00:00Z          0   \n",
       "32564          neb        NaN    NE  2017  2017-07-21T00:00:00Z          0   \n",
       "32565         ohio     5374.0    OH  2017  2017-07-25T00:00:00Z          0   \n",
       "32566  tenncrimapp     8291.0    TN  2017  2017-07-20T00:00:00Z          0   \n",
       "\n",
       "                                                 snippet  \n",
       "0      N.J.   ( )\\n  A. d  \\nIN RE WAIVER OF DEATH PE...  \n",
       "1      whether the death penalty is, per se, unconsti...  \n",
       "2      # ;s contention that the assessment of the dea...  \n",
       "3      . d   ( )\\n -NMSC- \\nIN THE MATTER OF DEATH PE...  \n",
       "4      assume the district attorney orally waived the...  \n",
       "...                                                  ...  \n",
       "32562    of two counts of aggravated murder with deat...  \n",
       "32563   his general views about the death penalty as ...  \n",
       "32564  been subject to the death\\npenalty, because Ne...  \n",
       "32565   that Indiana law permits imposition of the de...  \n",
       "32566  original guilty\\nplea for which he received th...  \n",
       "\n",
       "[32567 rows x 7 columns]"
      ]
     },
     "execution_count": 9,
     "metadata": {},
     "output_type": "execute_result"
    }
   ],
   "source": [
    "df"
   ]
  },
  {
   "cell_type": "code",
   "execution_count": 10,
   "metadata": {
    "ExecuteTime": {
     "end_time": "2022-04-28T11:26:48.223089Z",
     "start_time": "2022-04-28T11:26:22.347181Z"
    }
   },
   "outputs": [
    {
     "name": "stderr",
     "output_type": "stream",
     "text": [
      "/Users/abombelli/anaconda3/envs/venv_tad/lib/python3.8/site-packages/torch/distributions/distribution.py:51: UserWarning: <class 'torch_struct.distributions.TreeCRF'> does not define `arg_constraints`. Please set `arg_constraints = {}` or initialize the distribution with `validate_args=False` to turn off validation.\n",
      "  warnings.warn(f'{self.__class__} does not define `arg_constraints`. ' +\n"
     ]
    }
   ],
   "source": [
    "df = df.sample(n=2000)\n",
    "df[\"processed\"] = df[\"snippet\"].apply(lambda x: nlp(x))\n"
   ]
  },
  {
   "cell_type": "code",
   "execution_count": 11,
   "metadata": {
    "ExecuteTime": {
     "end_time": "2022-04-28T11:26:54.226289Z",
     "start_time": "2022-04-28T11:26:54.167246Z"
    }
   },
   "outputs": [],
   "source": [
    "def extract_subject_verb_pairs(sent):\n",
    "    subjs = [w for w in sent if w.dep_ == \"nsubj\"]\n",
    "    pairs = [(w.lemma_.lower(), w.head.lemma_.lower()) for w in subjs]\n",
    "    return pairs\n",
    "\n",
    "df[\"subj-verb-pairs\"] = df[\"processed\"].apply(lambda x: extract_subject_verb_pairs(x))"
   ]
  },
  {
   "cell_type": "code",
   "execution_count": 12,
   "metadata": {
    "ExecuteTime": {
     "end_time": "2022-04-28T11:26:55.499246Z",
     "start_time": "2022-04-28T11:26:55.480367Z"
    }
   },
   "outputs": [
    {
     "name": "stdout",
     "output_type": "stream",
     "text": [
      "('penalty', 'be') 197\n",
      "('state', 'seek') 166\n",
      "('it', 'be') 90\n",
      "('this', 'be') 60\n",
      "('he', 'be') 58\n",
      "('statute', 'be') 50\n",
      "('jury', 'find') 49\n",
      "('court', 'find') 45\n",
      "('defendant', 'be') 44\n",
      "('defendant', 'eligible') 38\n",
      "('jury', 'recommend') 36\n",
      "('court', 'impose') 35\n",
      "('he', 'receive') 29\n",
      "('that', 'be') 29\n",
      "('court', 'hold') 28\n",
      "('case', 'be') 28\n",
      "('state', 'waive') 28\n",
      "('court', 'sentence') 26\n",
      "('jury', 'impose') 25\n",
      "('we', 'have') 21\n",
      "('we', 'find') 20\n",
      "('state', 'file') 20\n",
      "('defendant', 'argue') 20\n",
      "('imposition', 'be') 20\n",
      "('who', 'be') 19\n"
     ]
    }
   ],
   "source": [
    "# most common pairs\n",
    "counter = Counter()\n",
    "for item in df[\"subj-verb-pairs\"]:\n",
    "    counter.update(item)\n",
    "    \n",
    "for pair, counts in counter.most_common(n=25):\n",
    "    print (pair, counts) # -pron- is a pronoun"
   ]
  },
  {
   "cell_type": "code",
   "execution_count": 13,
   "metadata": {},
   "outputs": [
    {
     "data": {
      "text/plain": [
       "<coreferee.manager.CorefereeBroker at 0x7ff4a6709d00>"
      ]
     },
     "execution_count": 13,
     "metadata": {},
     "output_type": "execute_result"
    }
   ],
   "source": [
    "#!pip install coreferee\n",
    "#!python3 -m spacy download en_core_web_trf en_core_web_lg\n",
    "#!python3 -m coreferee install en\n",
    "\n",
    "# install coreference resolution for spacy\n",
    "\n",
    "# !pip install neuralcoref --no-binary neuralcoref\n",
    "import spacy_transformers\n",
    "import coreferee\n",
    "nlp = spacy.load('en_core_web_trf')\n",
    "nlp.add_pipe('coreferee')"
   ]
  },
  {
   "cell_type": "code",
   "execution_count": 14,
   "metadata": {
    "ExecuteTime": {
     "end_time": "2022-04-28T11:27:12.984788Z",
     "start_time": "2022-04-28T11:27:12.966722Z"
    }
   },
   "outputs": [
    {
     "name": "stdout",
     "output_type": "stream",
     "text": [
      "0: sister(1), She(6)\n",
      "1: dog(4), him(8)\n",
      "[dog]\n"
     ]
    }
   ],
   "source": [
    "# Coreference Resolution\n",
    "doc = nlp(u'My sister has a dog. She loves him.')\n",
    "doc._.coref_chains.print()\n",
    "print(doc._.coref_chains.resolve(doc[8]))"
   ]
  },
  {
   "cell_type": "code",
   "execution_count": 15,
   "metadata": {
    "ExecuteTime": {
     "end_time": "2022-04-28T11:26:57.056681Z",
     "start_time": "2022-04-28T11:26:56.948455Z"
    }
   },
   "outputs": [],
   "source": [
    "# For neuralcoref to work you should downgrade spacy to version 2\n",
    "# For this reason, we will not be running it today\n",
    "#!pip install spacy==2.3.5\n",
    "\n",
    "#!pip install neuralcoref --no-binary neuralcoref\n",
    "#!python3 -m spacy download en_core_web_md\n",
    "\n",
    "#import neuralcoref\n",
    "#neuralcoref.add_to_pipe(nlp)\n",
    "\n",
    "#df[\"corefs_resolved\"] = df[\"snippet\"].apply(lambda x: nlp(x))\n",
    "\n",
    "#def extract_subject_verb_pairs_coref(sent):\n",
    "#    subjs = [w for w in sent if w.dep_ == \"nsubj\"]\n",
    "#    pairs = []\n",
    "#    for w in subjs:\n",
    "#        # either a subject is part of a coreference chain, then we need to resolve the chain\n",
    "#        if w._.in_coref:\n",
    "#            cluster = w._.coref_clusters[0]\n",
    "#            lemma = cluster.main.root.lemma_.lower()\n",
    "#            pairs.append((lemma, w.head.lemma_.lower()))\n",
    "#        # if it's not, we can just do the same as above\n",
    "#        else:\n",
    "#            pairs.append((w.lemma_.lower(), w.head.lemma_.lower()))\n",
    "#    return pairs\n",
    "\n",
    "\n",
    "#df[\"subj-verb-pairs-coref\"] = df[\"corefs_resolved\"].apply(lambda x: extract_subject_verb_pairs_coref(x))\n",
    "#counter = Counter()\n",
    "#for item in df[\"subj-verb-pairs-coref\"]:\n",
    "#    counter.update(item)\n",
    "    \n",
    "#for pair, counts in counter.most_common(n=25):\n",
    "#    print (pair, counts)\n",
    "\n",
    "# verbs used with defendant\n",
    "\n",
    "#for (subject, verb), counts in counter.most_common():\n",
    "#    if subject == \"defendant\" and counts > 1:\n",
    "#        print (subject, verb, counts)\n",
    "\n",
    "# verbs used with jury\n",
    "\n",
    "#for (subject, verb), counts in counter.most_common():\n",
    "#    if subject == \"jury\" and counts > 1:\n",
    "#        print (subject, verb, counts)"
   ]
  },
  {
   "cell_type": "code",
   "execution_count": null,
   "metadata": {},
   "outputs": [],
   "source": []
  }
 ],
 "metadata": {
  "kernelspec": {
   "display_name": "Python 3 (ipykernel)",
   "language": "python",
   "name": "python3"
  },
  "language_info": {
   "codemirror_mode": {
    "name": "ipython",
    "version": 3
   },
   "file_extension": ".py",
   "mimetype": "text/x-python",
   "name": "python",
   "nbconvert_exporter": "python",
   "pygments_lexer": "ipython3",
   "version": "3.8.18"
  },
  "toc": {
   "base_numbering": 1,
   "nav_menu": {},
   "number_sections": true,
   "sideBar": true,
   "skip_h1_title": false,
   "title_cell": "Table of Contents",
   "title_sidebar": "Contents",
   "toc_cell": false,
   "toc_position": {
    "height": "calc(100% - 180px)",
    "left": "10px",
    "top": "150px",
    "width": "285px"
   },
   "toc_section_display": true,
   "toc_window_display": true
  }
 },
 "nbformat": 4,
 "nbformat_minor": 4
}
